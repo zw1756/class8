{
  "nbformat": 4,
  "nbformat_minor": 0,
  "metadata": {
    "kernelspec": {
      "display_name": "Python 3",
      "language": "python",
      "name": "python3"
    },
    "language_info": {
      "codemirror_mode": {
        "name": "ipython",
        "version": 3
      },
      "file_extension": ".py",
      "mimetype": "text/x-python",
      "name": "python",
      "nbconvert_exporter": "python",
      "pygments_lexer": "ipython3",
      "version": "3.7.6"
    },
    "colab": {
      "name": "class_8.ipynb",
      "provenance": [],
      "collapsed_sections": [
        "7MdizQpNBQZI",
        "j_UKNpWFBQZI",
        "qmNpiY4xBQZJ",
        "GCf12eXFBQZK"
      ],
      "toc_visible": true
    }
  },
  "cells": [
    {
      "cell_type": "markdown",
      "metadata": {
        "id": "JV_rjJqWBQYa"
      },
      "source": [
        "# Class 8: Pandas \n",
        "\n",
        "C4SUE 2021 @avigailvantu\n",
        "\n",
        "Pandas is one of the most popular packages on Python. Among the most powerful features of pandas is the ability to filter, design, and load relational dataset. The main Pandas’ data structure is DataFrame (DF). Using DF’s you can easily manipulate data in format of rows and columns. \n",
        "\n",
        "Some of Pandas most useful functionalities are dealing with missing data, convert data formats, join and merge multiple tables, and filter and reshape data. We will go through some of these today. I recommend getting the O’Reilly book on Pandas named “Python for Data Analysis”, which was written by Wes McKinney the creator of Pandas. The book's 2nd edition is a good reference to many Pandas commands. https://www.oreilly.com/library/view/python-for-data/9781491957653/ Today’s examples will be partially inspired by this book."
      ]
    },
    {
      "cell_type": "markdown",
      "metadata": {
        "id": "wbCpMvtcBQYj"
      },
      "source": [
        "## Importing Packages \n",
        "As mentioned last week, we will import packages we need to work with before we write the code. That is why it is a common role in Jupyter is to load packages at the beginning of the notebook. Pandas are loaded using this line of code: “import pandas as pd”. So whenever you see “pd” in the code that refers to Pandas. "
      ]
    },
    {
      "cell_type": "code",
      "metadata": {
        "id": "0A76eK0fBQYk"
      },
      "source": [
        "import pandas as pd \n",
        "import numpy as np\n",
        "import matplotlib\n",
        "%matplotlib inline"
      ],
      "execution_count": 4,
      "outputs": []
    },
    {
      "cell_type": "markdown",
      "metadata": {
        "id": "xQT-aMo2BQYl"
      },
      "source": [
        "### Data Frames: \n",
        "DataFrames are a representation of data through a table. DF’s are very similar to spreadsheets in excel or csv’s in which the data is presented in columns and rows. In most cases, data frames are two-dimensional representation of data. \n",
        "\n",
        "- Let's create a DataFrame:\n"
      ]
    },
    {
      "cell_type": "code",
      "metadata": {
        "id": "XSMdAVSABQYl"
      },
      "source": [
        "# \"data\" is our new DataFrame \n",
        "\n",
        "data = pd.DataFrame({'State':['Ohio', 'Ohio', 'Ohio', 'Nevada', 'Nevada', 'Nevada'], \n",
        "                    'Year': [2000, 2001, 2002, 2001, 2002, 2003], \n",
        "                     'Pop': [1.5, 1.7,3.6, 2.4, 2.9,3.2]})\n",
        "\n",
        "# \"data\" has 3 columns: State, Year and Pop. \n",
        "# There are 6 rows in this data(not inclusing the column heads)\n",
        "\n"
      ],
      "execution_count": 5,
      "outputs": []
    },
    {
      "cell_type": "code",
      "metadata": {
        "scrolled": true,
        "colab": {
          "base_uri": "https://localhost:8080/",
          "height": 204
        },
        "id": "ugl1U1gvBQYm",
        "outputId": "58847819-fe2f-4d0b-9332-a8c8f9440cc2"
      },
      "source": [
        "# Now that we have a dataframe we can view and maniplulate it. \n",
        "\n",
        "# \"head\" will display the first few rows. \n",
        "#In our case, it will display the first 5 rows (+column names) of the data\n",
        "\n",
        "\n",
        "data.head()"
      ],
      "execution_count": 6,
      "outputs": [
        {
          "output_type": "execute_result",
          "data": {
            "text/html": [
              "<div>\n",
              "<style scoped>\n",
              "    .dataframe tbody tr th:only-of-type {\n",
              "        vertical-align: middle;\n",
              "    }\n",
              "\n",
              "    .dataframe tbody tr th {\n",
              "        vertical-align: top;\n",
              "    }\n",
              "\n",
              "    .dataframe thead th {\n",
              "        text-align: right;\n",
              "    }\n",
              "</style>\n",
              "<table border=\"1\" class=\"dataframe\">\n",
              "  <thead>\n",
              "    <tr style=\"text-align: right;\">\n",
              "      <th></th>\n",
              "      <th>State</th>\n",
              "      <th>Year</th>\n",
              "      <th>Pop</th>\n",
              "    </tr>\n",
              "  </thead>\n",
              "  <tbody>\n",
              "    <tr>\n",
              "      <th>0</th>\n",
              "      <td>Ohio</td>\n",
              "      <td>2000</td>\n",
              "      <td>1.5</td>\n",
              "    </tr>\n",
              "    <tr>\n",
              "      <th>1</th>\n",
              "      <td>Ohio</td>\n",
              "      <td>2001</td>\n",
              "      <td>1.7</td>\n",
              "    </tr>\n",
              "    <tr>\n",
              "      <th>2</th>\n",
              "      <td>Ohio</td>\n",
              "      <td>2002</td>\n",
              "      <td>3.6</td>\n",
              "    </tr>\n",
              "    <tr>\n",
              "      <th>3</th>\n",
              "      <td>Nevada</td>\n",
              "      <td>2001</td>\n",
              "      <td>2.4</td>\n",
              "    </tr>\n",
              "    <tr>\n",
              "      <th>4</th>\n",
              "      <td>Nevada</td>\n",
              "      <td>2002</td>\n",
              "      <td>2.9</td>\n",
              "    </tr>\n",
              "  </tbody>\n",
              "</table>\n",
              "</div>"
            ],
            "text/plain": [
              "    State  Year  Pop\n",
              "0    Ohio  2000  1.5\n",
              "1    Ohio  2001  1.7\n",
              "2    Ohio  2002  3.6\n",
              "3  Nevada  2001  2.4\n",
              "4  Nevada  2002  2.9"
            ]
          },
          "metadata": {
            "tags": []
          },
          "execution_count": 6
        }
      ]
    },
    {
      "cell_type": "markdown",
      "metadata": {
        "id": "_qV9vljgBQYm"
      },
      "source": [
        "## Sequencing the data: \n",
        "In some cases we will be working with data frames that have a large amount of columns. Sequencing can make it much easier to work with a given data frame because it will allow us to organize and order the data frame,in terms of what is the order to the displayed columns. "
      ]
    },
    {
      "cell_type": "code",
      "metadata": {
        "colab": {
          "base_uri": "https://localhost:8080/",
          "height": 235
        },
        "id": "nFR8Uc_bBQYn",
        "outputId": "5f872d42-f418-4a89-e803-674585618c10"
      },
      "source": [
        "# For example, we could choose to have the Year column first and State 2nd:\n",
        "\n",
        "# we could also choose to exlude some columns \n",
        "pd.DataFrame(data, columns=['Year', 'State', 'Pop'])"
      ],
      "execution_count": 7,
      "outputs": [
        {
          "output_type": "execute_result",
          "data": {
            "text/html": [
              "<div>\n",
              "<style scoped>\n",
              "    .dataframe tbody tr th:only-of-type {\n",
              "        vertical-align: middle;\n",
              "    }\n",
              "\n",
              "    .dataframe tbody tr th {\n",
              "        vertical-align: top;\n",
              "    }\n",
              "\n",
              "    .dataframe thead th {\n",
              "        text-align: right;\n",
              "    }\n",
              "</style>\n",
              "<table border=\"1\" class=\"dataframe\">\n",
              "  <thead>\n",
              "    <tr style=\"text-align: right;\">\n",
              "      <th></th>\n",
              "      <th>Year</th>\n",
              "      <th>State</th>\n",
              "      <th>Pop</th>\n",
              "    </tr>\n",
              "  </thead>\n",
              "  <tbody>\n",
              "    <tr>\n",
              "      <th>0</th>\n",
              "      <td>2000</td>\n",
              "      <td>Ohio</td>\n",
              "      <td>1.5</td>\n",
              "    </tr>\n",
              "    <tr>\n",
              "      <th>1</th>\n",
              "      <td>2001</td>\n",
              "      <td>Ohio</td>\n",
              "      <td>1.7</td>\n",
              "    </tr>\n",
              "    <tr>\n",
              "      <th>2</th>\n",
              "      <td>2002</td>\n",
              "      <td>Ohio</td>\n",
              "      <td>3.6</td>\n",
              "    </tr>\n",
              "    <tr>\n",
              "      <th>3</th>\n",
              "      <td>2001</td>\n",
              "      <td>Nevada</td>\n",
              "      <td>2.4</td>\n",
              "    </tr>\n",
              "    <tr>\n",
              "      <th>4</th>\n",
              "      <td>2002</td>\n",
              "      <td>Nevada</td>\n",
              "      <td>2.9</td>\n",
              "    </tr>\n",
              "    <tr>\n",
              "      <th>5</th>\n",
              "      <td>2003</td>\n",
              "      <td>Nevada</td>\n",
              "      <td>3.2</td>\n",
              "    </tr>\n",
              "  </tbody>\n",
              "</table>\n",
              "</div>"
            ],
            "text/plain": [
              "   Year   State  Pop\n",
              "0  2000    Ohio  1.5\n",
              "1  2001    Ohio  1.7\n",
              "2  2002    Ohio  3.6\n",
              "3  2001  Nevada  2.4\n",
              "4  2002  Nevada  2.9\n",
              "5  2003  Nevada  3.2"
            ]
          },
          "metadata": {
            "tags": []
          },
          "execution_count": 7
        }
      ]
    },
    {
      "cell_type": "code",
      "metadata": {
        "colab": {
          "base_uri": "https://localhost:8080/"
        },
        "id": "JL1Ocz8cBQYn",
        "outputId": "0399a970-451c-4c19-a7e5-c7cc82c7fd5d"
      },
      "source": [
        "# We can retrieve one column in our DF, let's say we want to have a closer look at the Pop column:\n",
        "data['Pop']"
      ],
      "execution_count": 8,
      "outputs": [
        {
          "output_type": "execute_result",
          "data": {
            "text/plain": [
              "0    1.5\n",
              "1    1.7\n",
              "2    3.6\n",
              "3    2.4\n",
              "4    2.9\n",
              "5    3.2\n",
              "Name: Pop, dtype: float64"
            ]
          },
          "metadata": {
            "tags": []
          },
          "execution_count": 8
        }
      ]
    },
    {
      "cell_type": "code",
      "metadata": {
        "colab": {
          "base_uri": "https://localhost:8080/"
        },
        "id": "o8YG8VKXBQYo",
        "outputId": "aa3a49e5-e01a-4e2d-8e0d-bab846b9ab78"
      },
      "source": [
        "#another way to do the same thing is: \n",
        "data.Pop\n",
        "#note that in case the column names have spaces or dots the first function \n",
        "#is more likely to work"
      ],
      "execution_count": 9,
      "outputs": [
        {
          "output_type": "execute_result",
          "data": {
            "text/plain": [
              "0    1.5\n",
              "1    1.7\n",
              "2    3.6\n",
              "3    2.4\n",
              "4    2.9\n",
              "5    3.2\n",
              "Name: Pop, dtype: float64"
            ]
          },
          "metadata": {
            "tags": []
          },
          "execution_count": 9
        }
      ]
    },
    {
      "cell_type": "markdown",
      "metadata": {
        "id": "_7_3A1tLBQYo"
      },
      "source": [
        "## Data Frame Index: \n",
        "\n",
        "As a default, data frames are indexed. This means that each row has its own index number. This process is done by Pandas with DataFrame creation. \n",
        "\n",
        "**Note**: In python indexing starts at 0 (and not 1) as you can see in our data frame’s first column. Using the loc function we can show data using its index.  \n",
        "- Here we will display the first attribute (indexed by 0):\n"
      ]
    },
    {
      "cell_type": "code",
      "metadata": {
        "colab": {
          "base_uri": "https://localhost:8080/"
        },
        "id": "5qma3Q69BQYo",
        "outputId": "115fe11b-d42e-427f-a32c-bb935927170e"
      },
      "source": [
        "data.loc[0]"
      ],
      "execution_count": 10,
      "outputs": [
        {
          "output_type": "execute_result",
          "data": {
            "text/plain": [
              "State    Ohio\n",
              "Year     2000\n",
              "Pop       1.5\n",
              "Name: 0, dtype: object"
            ]
          },
          "metadata": {
            "tags": []
          },
          "execution_count": 10
        }
      ]
    },
    {
      "cell_type": "markdown",
      "metadata": {
        "id": "WWfOrQLoBQYp"
      },
      "source": [
        "We can also display a range, for example, the attributes located in index 2 to 4:"
      ]
    },
    {
      "cell_type": "code",
      "metadata": {
        "colab": {
          "base_uri": "https://localhost:8080/",
          "height": 142
        },
        "id": "eqCilD51BQYp",
        "outputId": "7694ce65-0504-490f-d897-873fe15f22c0"
      },
      "source": [
        "data.loc[2:4]\n"
      ],
      "execution_count": 11,
      "outputs": [
        {
          "output_type": "execute_result",
          "data": {
            "text/html": [
              "<div>\n",
              "<style scoped>\n",
              "    .dataframe tbody tr th:only-of-type {\n",
              "        vertical-align: middle;\n",
              "    }\n",
              "\n",
              "    .dataframe tbody tr th {\n",
              "        vertical-align: top;\n",
              "    }\n",
              "\n",
              "    .dataframe thead th {\n",
              "        text-align: right;\n",
              "    }\n",
              "</style>\n",
              "<table border=\"1\" class=\"dataframe\">\n",
              "  <thead>\n",
              "    <tr style=\"text-align: right;\">\n",
              "      <th></th>\n",
              "      <th>State</th>\n",
              "      <th>Year</th>\n",
              "      <th>Pop</th>\n",
              "    </tr>\n",
              "  </thead>\n",
              "  <tbody>\n",
              "    <tr>\n",
              "      <th>2</th>\n",
              "      <td>Ohio</td>\n",
              "      <td>2002</td>\n",
              "      <td>3.6</td>\n",
              "    </tr>\n",
              "    <tr>\n",
              "      <th>3</th>\n",
              "      <td>Nevada</td>\n",
              "      <td>2001</td>\n",
              "      <td>2.4</td>\n",
              "    </tr>\n",
              "    <tr>\n",
              "      <th>4</th>\n",
              "      <td>Nevada</td>\n",
              "      <td>2002</td>\n",
              "      <td>2.9</td>\n",
              "    </tr>\n",
              "  </tbody>\n",
              "</table>\n",
              "</div>"
            ],
            "text/plain": [
              "    State  Year  Pop\n",
              "2    Ohio  2002  3.6\n",
              "3  Nevada  2001  2.4\n",
              "4  Nevada  2002  2.9"
            ]
          },
          "metadata": {
            "tags": []
          },
          "execution_count": 11
        }
      ]
    },
    {
      "cell_type": "code",
      "metadata": {
        "colab": {
          "base_uri": "https://localhost:8080/"
        },
        "id": "6Dv3AoaOBQYp",
        "outputId": "ffb196e9-7dab-4eba-b3de-b9e7f33801a1"
      },
      "source": [
        "#You can also modify cells' values using their index\n",
        "data['State'][0]= 'New York'"
      ],
      "execution_count": 12,
      "outputs": [
        {
          "output_type": "stream",
          "text": [
            "/usr/local/lib/python3.7/dist-packages/ipykernel_launcher.py:2: SettingWithCopyWarning: \n",
            "A value is trying to be set on a copy of a slice from a DataFrame\n",
            "\n",
            "See the caveats in the documentation: https://pandas.pydata.org/pandas-docs/stable/user_guide/indexing.html#returning-a-view-versus-a-copy\n",
            "  \n"
          ],
          "name": "stderr"
        }
      ]
    },
    {
      "cell_type": "code",
      "metadata": {
        "colab": {
          "base_uri": "https://localhost:8080/",
          "height": 235
        },
        "id": "rQBcczzlBQYq",
        "outputId": "03cf67d6-6ab5-47e3-873a-9121be610f1b"
      },
      "source": [
        "#now data looks like this:\n",
        "data"
      ],
      "execution_count": 13,
      "outputs": [
        {
          "output_type": "execute_result",
          "data": {
            "text/html": [
              "<div>\n",
              "<style scoped>\n",
              "    .dataframe tbody tr th:only-of-type {\n",
              "        vertical-align: middle;\n",
              "    }\n",
              "\n",
              "    .dataframe tbody tr th {\n",
              "        vertical-align: top;\n",
              "    }\n",
              "\n",
              "    .dataframe thead th {\n",
              "        text-align: right;\n",
              "    }\n",
              "</style>\n",
              "<table border=\"1\" class=\"dataframe\">\n",
              "  <thead>\n",
              "    <tr style=\"text-align: right;\">\n",
              "      <th></th>\n",
              "      <th>State</th>\n",
              "      <th>Year</th>\n",
              "      <th>Pop</th>\n",
              "    </tr>\n",
              "  </thead>\n",
              "  <tbody>\n",
              "    <tr>\n",
              "      <th>0</th>\n",
              "      <td>New York</td>\n",
              "      <td>2000</td>\n",
              "      <td>1.5</td>\n",
              "    </tr>\n",
              "    <tr>\n",
              "      <th>1</th>\n",
              "      <td>Ohio</td>\n",
              "      <td>2001</td>\n",
              "      <td>1.7</td>\n",
              "    </tr>\n",
              "    <tr>\n",
              "      <th>2</th>\n",
              "      <td>Ohio</td>\n",
              "      <td>2002</td>\n",
              "      <td>3.6</td>\n",
              "    </tr>\n",
              "    <tr>\n",
              "      <th>3</th>\n",
              "      <td>Nevada</td>\n",
              "      <td>2001</td>\n",
              "      <td>2.4</td>\n",
              "    </tr>\n",
              "    <tr>\n",
              "      <th>4</th>\n",
              "      <td>Nevada</td>\n",
              "      <td>2002</td>\n",
              "      <td>2.9</td>\n",
              "    </tr>\n",
              "    <tr>\n",
              "      <th>5</th>\n",
              "      <td>Nevada</td>\n",
              "      <td>2003</td>\n",
              "      <td>3.2</td>\n",
              "    </tr>\n",
              "  </tbody>\n",
              "</table>\n",
              "</div>"
            ],
            "text/plain": [
              "      State  Year  Pop\n",
              "0  New York  2000  1.5\n",
              "1      Ohio  2001  1.7\n",
              "2      Ohio  2002  3.6\n",
              "3    Nevada  2001  2.4\n",
              "4    Nevada  2002  2.9\n",
              "5    Nevada  2003  3.2"
            ]
          },
          "metadata": {
            "tags": []
          },
          "execution_count": 13
        }
      ]
    },
    {
      "cell_type": "code",
      "metadata": {
        "colab": {
          "base_uri": "https://localhost:8080/"
        },
        "id": "XtWID3KwBQYq",
        "outputId": "aba9fe31-3e63-47a3-9dd9-1ab4b2e24c0f"
      },
      "source": [
        "#we can also query the data frame. \n",
        "#For example check if \"State\" exsits in one of the columns\n",
        "\n",
        "'State' in data.columns\n"
      ],
      "execution_count": 14,
      "outputs": [
        {
          "output_type": "execute_result",
          "data": {
            "text/plain": [
              "True"
            ]
          },
          "metadata": {
            "tags": []
          },
          "execution_count": 14
        }
      ]
    },
    {
      "cell_type": "markdown",
      "metadata": {
        "id": "URv4JZSDBQYq"
      },
      "source": [
        "## Dropping columns/rows\n",
        "\n",
        "Columns and rows in pandas are controled using axis. You can drop either one."
      ]
    },
    {
      "cell_type": "code",
      "metadata": {
        "id": "E9dDM9CeBQYq"
      },
      "source": [
        "#first let's duplicate our data so we can modify it. \n",
        "\n",
        "data2 = data \n",
        "\n",
        "# note that even if we would to modify our \n",
        "#original data frame we could have always re-run the notebook from the begining to retrieve our original DF. "
      ],
      "execution_count": 15,
      "outputs": []
    },
    {
      "cell_type": "code",
      "metadata": {
        "colab": {
          "base_uri": "https://localhost:8080/",
          "height": 204
        },
        "id": "uOoEgMcSBQYr",
        "outputId": "81856e45-236b-455e-8d8e-925189e791dd"
      },
      "source": [
        "# now view our new DF\n",
        "data2.head()"
      ],
      "execution_count": 16,
      "outputs": [
        {
          "output_type": "execute_result",
          "data": {
            "text/html": [
              "<div>\n",
              "<style scoped>\n",
              "    .dataframe tbody tr th:only-of-type {\n",
              "        vertical-align: middle;\n",
              "    }\n",
              "\n",
              "    .dataframe tbody tr th {\n",
              "        vertical-align: top;\n",
              "    }\n",
              "\n",
              "    .dataframe thead th {\n",
              "        text-align: right;\n",
              "    }\n",
              "</style>\n",
              "<table border=\"1\" class=\"dataframe\">\n",
              "  <thead>\n",
              "    <tr style=\"text-align: right;\">\n",
              "      <th></th>\n",
              "      <th>State</th>\n",
              "      <th>Year</th>\n",
              "      <th>Pop</th>\n",
              "    </tr>\n",
              "  </thead>\n",
              "  <tbody>\n",
              "    <tr>\n",
              "      <th>0</th>\n",
              "      <td>New York</td>\n",
              "      <td>2000</td>\n",
              "      <td>1.5</td>\n",
              "    </tr>\n",
              "    <tr>\n",
              "      <th>1</th>\n",
              "      <td>Ohio</td>\n",
              "      <td>2001</td>\n",
              "      <td>1.7</td>\n",
              "    </tr>\n",
              "    <tr>\n",
              "      <th>2</th>\n",
              "      <td>Ohio</td>\n",
              "      <td>2002</td>\n",
              "      <td>3.6</td>\n",
              "    </tr>\n",
              "    <tr>\n",
              "      <th>3</th>\n",
              "      <td>Nevada</td>\n",
              "      <td>2001</td>\n",
              "      <td>2.4</td>\n",
              "    </tr>\n",
              "    <tr>\n",
              "      <th>4</th>\n",
              "      <td>Nevada</td>\n",
              "      <td>2002</td>\n",
              "      <td>2.9</td>\n",
              "    </tr>\n",
              "  </tbody>\n",
              "</table>\n",
              "</div>"
            ],
            "text/plain": [
              "      State  Year  Pop\n",
              "0  New York  2000  1.5\n",
              "1      Ohio  2001  1.7\n",
              "2      Ohio  2002  3.6\n",
              "3    Nevada  2001  2.4\n",
              "4    Nevada  2002  2.9"
            ]
          },
          "metadata": {
            "tags": []
          },
          "execution_count": 16
        }
      ]
    },
    {
      "cell_type": "code",
      "metadata": {
        "colab": {
          "base_uri": "https://localhost:8080/",
          "height": 204
        },
        "id": "HLZs7xQ_BQYr",
        "outputId": "425f9dc8-9b8d-44a8-8046-17a027a6a986"
      },
      "source": [
        "#let's drop based on index #: \n",
        "data2 = data2.drop([0]) \n",
        "data2\n",
        "#the default is axis 0 which is horizental (row) "
      ],
      "execution_count": 17,
      "outputs": [
        {
          "output_type": "execute_result",
          "data": {
            "text/html": [
              "<div>\n",
              "<style scoped>\n",
              "    .dataframe tbody tr th:only-of-type {\n",
              "        vertical-align: middle;\n",
              "    }\n",
              "\n",
              "    .dataframe tbody tr th {\n",
              "        vertical-align: top;\n",
              "    }\n",
              "\n",
              "    .dataframe thead th {\n",
              "        text-align: right;\n",
              "    }\n",
              "</style>\n",
              "<table border=\"1\" class=\"dataframe\">\n",
              "  <thead>\n",
              "    <tr style=\"text-align: right;\">\n",
              "      <th></th>\n",
              "      <th>State</th>\n",
              "      <th>Year</th>\n",
              "      <th>Pop</th>\n",
              "    </tr>\n",
              "  </thead>\n",
              "  <tbody>\n",
              "    <tr>\n",
              "      <th>1</th>\n",
              "      <td>Ohio</td>\n",
              "      <td>2001</td>\n",
              "      <td>1.7</td>\n",
              "    </tr>\n",
              "    <tr>\n",
              "      <th>2</th>\n",
              "      <td>Ohio</td>\n",
              "      <td>2002</td>\n",
              "      <td>3.6</td>\n",
              "    </tr>\n",
              "    <tr>\n",
              "      <th>3</th>\n",
              "      <td>Nevada</td>\n",
              "      <td>2001</td>\n",
              "      <td>2.4</td>\n",
              "    </tr>\n",
              "    <tr>\n",
              "      <th>4</th>\n",
              "      <td>Nevada</td>\n",
              "      <td>2002</td>\n",
              "      <td>2.9</td>\n",
              "    </tr>\n",
              "    <tr>\n",
              "      <th>5</th>\n",
              "      <td>Nevada</td>\n",
              "      <td>2003</td>\n",
              "      <td>3.2</td>\n",
              "    </tr>\n",
              "  </tbody>\n",
              "</table>\n",
              "</div>"
            ],
            "text/plain": [
              "    State  Year  Pop\n",
              "1    Ohio  2001  1.7\n",
              "2    Ohio  2002  3.6\n",
              "3  Nevada  2001  2.4\n",
              "4  Nevada  2002  2.9\n",
              "5  Nevada  2003  3.2"
            ]
          },
          "metadata": {
            "tags": []
          },
          "execution_count": 17
        }
      ]
    },
    {
      "cell_type": "code",
      "metadata": {
        "colab": {
          "base_uri": "https://localhost:8080/",
          "height": 204
        },
        "id": "25iaq0czBQYr",
        "outputId": "f6c7857b-ac83-479b-eeea-55558e9d2bc9"
      },
      "source": [
        "# we can also drop an entire column: \n",
        "data2.drop('Year', axis=1)\n"
      ],
      "execution_count": 18,
      "outputs": [
        {
          "output_type": "execute_result",
          "data": {
            "text/html": [
              "<div>\n",
              "<style scoped>\n",
              "    .dataframe tbody tr th:only-of-type {\n",
              "        vertical-align: middle;\n",
              "    }\n",
              "\n",
              "    .dataframe tbody tr th {\n",
              "        vertical-align: top;\n",
              "    }\n",
              "\n",
              "    .dataframe thead th {\n",
              "        text-align: right;\n",
              "    }\n",
              "</style>\n",
              "<table border=\"1\" class=\"dataframe\">\n",
              "  <thead>\n",
              "    <tr style=\"text-align: right;\">\n",
              "      <th></th>\n",
              "      <th>State</th>\n",
              "      <th>Pop</th>\n",
              "    </tr>\n",
              "  </thead>\n",
              "  <tbody>\n",
              "    <tr>\n",
              "      <th>1</th>\n",
              "      <td>Ohio</td>\n",
              "      <td>1.7</td>\n",
              "    </tr>\n",
              "    <tr>\n",
              "      <th>2</th>\n",
              "      <td>Ohio</td>\n",
              "      <td>3.6</td>\n",
              "    </tr>\n",
              "    <tr>\n",
              "      <th>3</th>\n",
              "      <td>Nevada</td>\n",
              "      <td>2.4</td>\n",
              "    </tr>\n",
              "    <tr>\n",
              "      <th>4</th>\n",
              "      <td>Nevada</td>\n",
              "      <td>2.9</td>\n",
              "    </tr>\n",
              "    <tr>\n",
              "      <th>5</th>\n",
              "      <td>Nevada</td>\n",
              "      <td>3.2</td>\n",
              "    </tr>\n",
              "  </tbody>\n",
              "</table>\n",
              "</div>"
            ],
            "text/plain": [
              "    State  Pop\n",
              "1    Ohio  1.7\n",
              "2    Ohio  3.6\n",
              "3  Nevada  2.4\n",
              "4  Nevada  2.9\n",
              "5  Nevada  3.2"
            ]
          },
          "metadata": {
            "tags": []
          },
          "execution_count": 18
        }
      ]
    },
    {
      "cell_type": "markdown",
      "metadata": {
        "id": "r9GJ1UcWBQYs"
      },
      "source": [
        "## Summaries & Descriptives \n",
        "Data frames allow for many types of summaries. "
      ]
    },
    {
      "cell_type": "code",
      "metadata": {
        "id": "6GeuPs3RBQYs"
      },
      "source": [
        "#let's create a new df with a few more \"fake\" columns:\n",
        "\n",
        "data3 = pd.DataFrame({'State':['Ohio', 'Ohio', 'Ohio', 'Nevada', 'Nevada', 'Nevada'], \n",
        "                    'Year': [2000, 2001, 2002, 2001, 2002, 2003], \n",
        "                     'Pop': [1.5, 1.7,3.6, 2.4, 2.9,3.2], \n",
        "                     'Life_span': [81.3, 82.1, 82.2, 79.1, 79.7, 80.1],\n",
        "                      'Max_temp': [81, 84,83, 79, 79, 82] })\n",
        "\n"
      ],
      "execution_count": 19,
      "outputs": []
    },
    {
      "cell_type": "code",
      "metadata": {
        "colab": {
          "base_uri": "https://localhost:8080/",
          "height": 235
        },
        "id": "OccJB_wWBQYs",
        "outputId": "79cac65c-13cb-4138-fbb9-32193d7e4579"
      },
      "source": [
        "# and new view the DF\n",
        "data3\n",
        "\n",
        "# note that for large datasets you wouldn't want to diaply the entire data but the data head()"
      ],
      "execution_count": 20,
      "outputs": [
        {
          "output_type": "execute_result",
          "data": {
            "text/html": [
              "<div>\n",
              "<style scoped>\n",
              "    .dataframe tbody tr th:only-of-type {\n",
              "        vertical-align: middle;\n",
              "    }\n",
              "\n",
              "    .dataframe tbody tr th {\n",
              "        vertical-align: top;\n",
              "    }\n",
              "\n",
              "    .dataframe thead th {\n",
              "        text-align: right;\n",
              "    }\n",
              "</style>\n",
              "<table border=\"1\" class=\"dataframe\">\n",
              "  <thead>\n",
              "    <tr style=\"text-align: right;\">\n",
              "      <th></th>\n",
              "      <th>State</th>\n",
              "      <th>Year</th>\n",
              "      <th>Pop</th>\n",
              "      <th>Life_span</th>\n",
              "      <th>Max_temp</th>\n",
              "    </tr>\n",
              "  </thead>\n",
              "  <tbody>\n",
              "    <tr>\n",
              "      <th>0</th>\n",
              "      <td>Ohio</td>\n",
              "      <td>2000</td>\n",
              "      <td>1.5</td>\n",
              "      <td>81.3</td>\n",
              "      <td>81</td>\n",
              "    </tr>\n",
              "    <tr>\n",
              "      <th>1</th>\n",
              "      <td>Ohio</td>\n",
              "      <td>2001</td>\n",
              "      <td>1.7</td>\n",
              "      <td>82.1</td>\n",
              "      <td>84</td>\n",
              "    </tr>\n",
              "    <tr>\n",
              "      <th>2</th>\n",
              "      <td>Ohio</td>\n",
              "      <td>2002</td>\n",
              "      <td>3.6</td>\n",
              "      <td>82.2</td>\n",
              "      <td>83</td>\n",
              "    </tr>\n",
              "    <tr>\n",
              "      <th>3</th>\n",
              "      <td>Nevada</td>\n",
              "      <td>2001</td>\n",
              "      <td>2.4</td>\n",
              "      <td>79.1</td>\n",
              "      <td>79</td>\n",
              "    </tr>\n",
              "    <tr>\n",
              "      <th>4</th>\n",
              "      <td>Nevada</td>\n",
              "      <td>2002</td>\n",
              "      <td>2.9</td>\n",
              "      <td>79.7</td>\n",
              "      <td>79</td>\n",
              "    </tr>\n",
              "    <tr>\n",
              "      <th>5</th>\n",
              "      <td>Nevada</td>\n",
              "      <td>2003</td>\n",
              "      <td>3.2</td>\n",
              "      <td>80.1</td>\n",
              "      <td>82</td>\n",
              "    </tr>\n",
              "  </tbody>\n",
              "</table>\n",
              "</div>"
            ],
            "text/plain": [
              "    State  Year  Pop  Life_span  Max_temp\n",
              "0    Ohio  2000  1.5       81.3        81\n",
              "1    Ohio  2001  1.7       82.1        84\n",
              "2    Ohio  2002  3.6       82.2        83\n",
              "3  Nevada  2001  2.4       79.1        79\n",
              "4  Nevada  2002  2.9       79.7        79\n",
              "5  Nevada  2003  3.2       80.1        82"
            ]
          },
          "metadata": {
            "tags": []
          },
          "execution_count": 20
        }
      ]
    },
    {
      "cell_type": "code",
      "metadata": {
        "colab": {
          "base_uri": "https://localhost:8080/"
        },
        "id": "TNr_OQFHBQYs",
        "outputId": "46dd9eff-1e7c-4508-eb56-41a8cd751d76"
      },
      "source": [
        "# you can sum an entire column:  \n",
        "data3.Pop.sum()"
      ],
      "execution_count": 21,
      "outputs": [
        {
          "output_type": "execute_result",
          "data": {
            "text/plain": [
              "15.3"
            ]
          },
          "metadata": {
            "tags": []
          },
          "execution_count": 21
        }
      ]
    },
    {
      "cell_type": "code",
      "metadata": {
        "colab": {
          "base_uri": "https://localhost:8080/"
        },
        "id": "m5yUJsz0BQYt",
        "outputId": "6bb85cc3-c0a4-4a25-c6f3-078c35680860"
      },
      "source": [
        "data3.Life_span.sum()"
      ],
      "execution_count": 22,
      "outputs": [
        {
          "output_type": "execute_result",
          "data": {
            "text/plain": [
              "484.4999999999999"
            ]
          },
          "metadata": {
            "tags": []
          },
          "execution_count": 22
        }
      ]
    },
    {
      "cell_type": "code",
      "metadata": {
        "colab": {
          "base_uri": "https://localhost:8080/"
        },
        "id": "IKMgiv-IBQYt",
        "outputId": "b1af8ac6-cc58-4942-da98-697ad6204ba6"
      },
      "source": [
        "#you can also find the min and max values: \n",
        "data3.Max_temp.min()"
      ],
      "execution_count": 23,
      "outputs": [
        {
          "output_type": "execute_result",
          "data": {
            "text/plain": [
              "79"
            ]
          },
          "metadata": {
            "tags": []
          },
          "execution_count": 23
        }
      ]
    },
    {
      "cell_type": "code",
      "metadata": {
        "colab": {
          "base_uri": "https://localhost:8080/"
        },
        "id": "beoL23F5BQYt",
        "outputId": "520d12de-9b37-4902-ad7e-41ee3f6bea8a"
      },
      "source": [
        "data3.Max_temp.max()"
      ],
      "execution_count": 24,
      "outputs": [
        {
          "output_type": "execute_result",
          "data": {
            "text/plain": [
              "84"
            ]
          },
          "metadata": {
            "tags": []
          },
          "execution_count": 24
        }
      ]
    },
    {
      "cell_type": "code",
      "metadata": {
        "colab": {
          "base_uri": "https://localhost:8080/"
        },
        "id": "mzdYn_sdBQYt",
        "outputId": "e6df753f-6d01-4189-c9fa-bbb4d1216ad8"
      },
      "source": [
        "#or find the mean value for the entire DF: \n",
        "\n",
        "data3.mean()"
      ],
      "execution_count": 25,
      "outputs": [
        {
          "output_type": "execute_result",
          "data": {
            "text/plain": [
              "Year         2001.500000\n",
              "Pop             2.550000\n",
              "Life_span      80.750000\n",
              "Max_temp       81.333333\n",
              "dtype: float64"
            ]
          },
          "metadata": {
            "tags": []
          },
          "execution_count": 25
        }
      ]
    },
    {
      "cell_type": "code",
      "metadata": {
        "colab": {
          "base_uri": "https://localhost:8080/"
        },
        "id": "Zt02IUtUBQYt",
        "outputId": "1ff6db87-dd17-4664-e02b-cf5d3f39c955"
      },
      "source": [
        "# or for a specific column: \n",
        "\n",
        "data3.Max_temp.mean()"
      ],
      "execution_count": 26,
      "outputs": [
        {
          "output_type": "execute_result",
          "data": {
            "text/plain": [
              "81.33333333333333"
            ]
          },
          "metadata": {
            "tags": []
          },
          "execution_count": 26
        }
      ]
    },
    {
      "cell_type": "code",
      "metadata": {
        "colab": {
          "base_uri": "https://localhost:8080/",
          "height": 297
        },
        "id": "jaXbkUY-BQYu",
        "outputId": "0b9f1273-f9ed-46e5-8e8d-fc693f0a1864"
      },
      "source": [
        "#the describe function is also a quite useful one, it gives us the stats summary for the entire df. \n",
        "#Like count, mean, std, min, max  \n",
        "\n",
        "data3.describe()"
      ],
      "execution_count": 27,
      "outputs": [
        {
          "output_type": "execute_result",
          "data": {
            "text/html": [
              "<div>\n",
              "<style scoped>\n",
              "    .dataframe tbody tr th:only-of-type {\n",
              "        vertical-align: middle;\n",
              "    }\n",
              "\n",
              "    .dataframe tbody tr th {\n",
              "        vertical-align: top;\n",
              "    }\n",
              "\n",
              "    .dataframe thead th {\n",
              "        text-align: right;\n",
              "    }\n",
              "</style>\n",
              "<table border=\"1\" class=\"dataframe\">\n",
              "  <thead>\n",
              "    <tr style=\"text-align: right;\">\n",
              "      <th></th>\n",
              "      <th>Year</th>\n",
              "      <th>Pop</th>\n",
              "      <th>Life_span</th>\n",
              "      <th>Max_temp</th>\n",
              "    </tr>\n",
              "  </thead>\n",
              "  <tbody>\n",
              "    <tr>\n",
              "      <th>count</th>\n",
              "      <td>6.000000</td>\n",
              "      <td>6.000000</td>\n",
              "      <td>6.000000</td>\n",
              "      <td>6.000000</td>\n",
              "    </tr>\n",
              "    <tr>\n",
              "      <th>mean</th>\n",
              "      <td>2001.500000</td>\n",
              "      <td>2.550000</td>\n",
              "      <td>80.750000</td>\n",
              "      <td>81.333333</td>\n",
              "    </tr>\n",
              "    <tr>\n",
              "      <th>std</th>\n",
              "      <td>1.048809</td>\n",
              "      <td>0.836062</td>\n",
              "      <td>1.301922</td>\n",
              "      <td>2.065591</td>\n",
              "    </tr>\n",
              "    <tr>\n",
              "      <th>min</th>\n",
              "      <td>2000.000000</td>\n",
              "      <td>1.500000</td>\n",
              "      <td>79.100000</td>\n",
              "      <td>79.000000</td>\n",
              "    </tr>\n",
              "    <tr>\n",
              "      <th>25%</th>\n",
              "      <td>2001.000000</td>\n",
              "      <td>1.875000</td>\n",
              "      <td>79.800000</td>\n",
              "      <td>79.500000</td>\n",
              "    </tr>\n",
              "    <tr>\n",
              "      <th>50%</th>\n",
              "      <td>2001.500000</td>\n",
              "      <td>2.650000</td>\n",
              "      <td>80.700000</td>\n",
              "      <td>81.500000</td>\n",
              "    </tr>\n",
              "    <tr>\n",
              "      <th>75%</th>\n",
              "      <td>2002.000000</td>\n",
              "      <td>3.125000</td>\n",
              "      <td>81.900000</td>\n",
              "      <td>82.750000</td>\n",
              "    </tr>\n",
              "    <tr>\n",
              "      <th>max</th>\n",
              "      <td>2003.000000</td>\n",
              "      <td>3.600000</td>\n",
              "      <td>82.200000</td>\n",
              "      <td>84.000000</td>\n",
              "    </tr>\n",
              "  </tbody>\n",
              "</table>\n",
              "</div>"
            ],
            "text/plain": [
              "              Year       Pop  Life_span   Max_temp\n",
              "count     6.000000  6.000000   6.000000   6.000000\n",
              "mean   2001.500000  2.550000  80.750000  81.333333\n",
              "std       1.048809  0.836062   1.301922   2.065591\n",
              "min    2000.000000  1.500000  79.100000  79.000000\n",
              "25%    2001.000000  1.875000  79.800000  79.500000\n",
              "50%    2001.500000  2.650000  80.700000  81.500000\n",
              "75%    2002.000000  3.125000  81.900000  82.750000\n",
              "max    2003.000000  3.600000  82.200000  84.000000"
            ]
          },
          "metadata": {
            "tags": []
          },
          "execution_count": 27
        }
      ]
    },
    {
      "cell_type": "markdown",
      "metadata": {
        "id": "9m-c98f0BQYx"
      },
      "source": [
        "# Sorting and Ranking Data \n",
        "There are a few built-in operations in Pandas for sorting data for columns, rows, and index. "
      ]
    },
    {
      "cell_type": "code",
      "metadata": {
        "colab": {
          "base_uri": "https://localhost:8080/",
          "height": 235
        },
        "id": "Z59rJkW4BQYx",
        "outputId": "da36169b-87d4-4136-c6c6-8b58eda24185"
      },
      "source": [
        "#here's how to sort an index: \n",
        "data3.sort_index()"
      ],
      "execution_count": 28,
      "outputs": [
        {
          "output_type": "execute_result",
          "data": {
            "text/html": [
              "<div>\n",
              "<style scoped>\n",
              "    .dataframe tbody tr th:only-of-type {\n",
              "        vertical-align: middle;\n",
              "    }\n",
              "\n",
              "    .dataframe tbody tr th {\n",
              "        vertical-align: top;\n",
              "    }\n",
              "\n",
              "    .dataframe thead th {\n",
              "        text-align: right;\n",
              "    }\n",
              "</style>\n",
              "<table border=\"1\" class=\"dataframe\">\n",
              "  <thead>\n",
              "    <tr style=\"text-align: right;\">\n",
              "      <th></th>\n",
              "      <th>State</th>\n",
              "      <th>Year</th>\n",
              "      <th>Pop</th>\n",
              "      <th>Life_span</th>\n",
              "      <th>Max_temp</th>\n",
              "    </tr>\n",
              "  </thead>\n",
              "  <tbody>\n",
              "    <tr>\n",
              "      <th>0</th>\n",
              "      <td>Ohio</td>\n",
              "      <td>2000</td>\n",
              "      <td>1.5</td>\n",
              "      <td>81.3</td>\n",
              "      <td>81</td>\n",
              "    </tr>\n",
              "    <tr>\n",
              "      <th>1</th>\n",
              "      <td>Ohio</td>\n",
              "      <td>2001</td>\n",
              "      <td>1.7</td>\n",
              "      <td>82.1</td>\n",
              "      <td>84</td>\n",
              "    </tr>\n",
              "    <tr>\n",
              "      <th>2</th>\n",
              "      <td>Ohio</td>\n",
              "      <td>2002</td>\n",
              "      <td>3.6</td>\n",
              "      <td>82.2</td>\n",
              "      <td>83</td>\n",
              "    </tr>\n",
              "    <tr>\n",
              "      <th>3</th>\n",
              "      <td>Nevada</td>\n",
              "      <td>2001</td>\n",
              "      <td>2.4</td>\n",
              "      <td>79.1</td>\n",
              "      <td>79</td>\n",
              "    </tr>\n",
              "    <tr>\n",
              "      <th>4</th>\n",
              "      <td>Nevada</td>\n",
              "      <td>2002</td>\n",
              "      <td>2.9</td>\n",
              "      <td>79.7</td>\n",
              "      <td>79</td>\n",
              "    </tr>\n",
              "    <tr>\n",
              "      <th>5</th>\n",
              "      <td>Nevada</td>\n",
              "      <td>2003</td>\n",
              "      <td>3.2</td>\n",
              "      <td>80.1</td>\n",
              "      <td>82</td>\n",
              "    </tr>\n",
              "  </tbody>\n",
              "</table>\n",
              "</div>"
            ],
            "text/plain": [
              "    State  Year  Pop  Life_span  Max_temp\n",
              "0    Ohio  2000  1.5       81.3        81\n",
              "1    Ohio  2001  1.7       82.1        84\n",
              "2    Ohio  2002  3.6       82.2        83\n",
              "3  Nevada  2001  2.4       79.1        79\n",
              "4  Nevada  2002  2.9       79.7        79\n",
              "5  Nevada  2003  3.2       80.1        82"
            ]
          },
          "metadata": {
            "tags": []
          },
          "execution_count": 28
        }
      ]
    },
    {
      "cell_type": "code",
      "metadata": {
        "colab": {
          "base_uri": "https://localhost:8080/"
        },
        "id": "MvCaoI_LBQYx",
        "outputId": "388448f6-4586-4059-aae3-ea35f1e99dce"
      },
      "source": [
        "#we can also sort a spesific column. For example the Pop column:\n",
        "data3.Pop.sort_values()"
      ],
      "execution_count": 29,
      "outputs": [
        {
          "output_type": "execute_result",
          "data": {
            "text/plain": [
              "0    1.5\n",
              "1    1.7\n",
              "3    2.4\n",
              "4    2.9\n",
              "5    3.2\n",
              "2    3.6\n",
              "Name: Pop, dtype: float64"
            ]
          },
          "metadata": {
            "tags": []
          },
          "execution_count": 29
        }
      ]
    },
    {
      "cell_type": "code",
      "metadata": {
        "colab": {
          "base_uri": "https://localhost:8080/"
        },
        "id": "GLUMjPRABQYx",
        "outputId": "e2357018-886b-4e73-ed68-e3d158856b0f"
      },
      "source": [
        "#Ranks can also be used to sort values. For example, if we want to observe the rank of life span: \n",
        "data3.Life_span.rank()"
      ],
      "execution_count": 30,
      "outputs": [
        {
          "output_type": "execute_result",
          "data": {
            "text/plain": [
              "0    4.0\n",
              "1    5.0\n",
              "2    6.0\n",
              "3    1.0\n",
              "4    2.0\n",
              "5    3.0\n",
              "Name: Life_span, dtype: float64"
            ]
          },
          "metadata": {
            "tags": []
          },
          "execution_count": 30
        }
      ]
    },
    {
      "cell_type": "markdown",
      "metadata": {
        "id": "Z9r1mMYYBQYy"
      },
      "source": [
        "**Note:**\n",
        "\n",
        "Rank is a relative value. Meaning that 4 here will refer to the first row being in 4th place, compared to the rest of the Dataframe. "
      ]
    },
    {
      "cell_type": "markdown",
      "metadata": {
        "id": "Ef50SYFWBQYy"
      },
      "source": [
        "## Unique Values: \n",
        "Pandas also let us find out about unique values in a dataset. \n",
        "\n"
      ]
    },
    {
      "cell_type": "code",
      "metadata": {
        "colab": {
          "base_uri": "https://localhost:8080/"
        },
        "id": "vHIUmQCSBQYy",
        "outputId": "98d81188-ee7c-45a4-ca7d-fac5f4acd6e8"
      },
      "source": [
        "#for exmaple we can find out what are the unique vlaues for the year column\n",
        "data3.Year.unique()\n"
      ],
      "execution_count": 31,
      "outputs": [
        {
          "output_type": "execute_result",
          "data": {
            "text/plain": [
              "array([2000, 2001, 2002, 2003])"
            ]
          },
          "metadata": {
            "tags": []
          },
          "execution_count": 31
        }
      ]
    },
    {
      "cell_type": "code",
      "metadata": {
        "colab": {
          "base_uri": "https://localhost:8080/"
        },
        "id": "-1CTNjXFBQYz",
        "outputId": "4d557657-6827-490f-9db9-c75c79e1cd8b"
      },
      "source": [
        "# or we can try it on the State column:\n",
        "data3.State.unique()"
      ],
      "execution_count": 32,
      "outputs": [
        {
          "output_type": "execute_result",
          "data": {
            "text/plain": [
              "array(['Ohio', 'Nevada'], dtype=object)"
            ]
          },
          "metadata": {
            "tags": []
          },
          "execution_count": 32
        }
      ]
    },
    {
      "cell_type": "markdown",
      "metadata": {
        "id": "2x-YDYk2BQYz"
      },
      "source": [
        "## Let's Try these Functionalities on Real Data \n",
        "The NYT made the US COVID-19 data publicly available. The most up-to-date data can be accessed here: https://github.com/nytimes/covid-19-data \n",
        "\n",
        "I will use some new functionalities along the way. The data we will use today is an older version, from a year ago and was accessed on March 28th 2020. We will use this smaller data today and in future classes explor newest (and much larger) data. "
      ]
    },
    {
      "cell_type": "code",
      "metadata": {
        "id": "IAhws-ryBQYz"
      },
      "source": [
        "#let's load the data into our Jupyter Notebook\n",
        "\n",
        "covidUS = pd.read_csv('us-states.csv')"
      ],
      "execution_count": 33,
      "outputs": []
    },
    {
      "cell_type": "code",
      "metadata": {
        "colab": {
          "base_uri": "https://localhost:8080/"
        },
        "id": "IfK1AFa9BQY0",
        "outputId": "a5dac091-5e0e-49b6-8668-47ce4c305b50"
      },
      "source": [
        "# let's find out the \"shape of the data\" meaning, # of columns and rows\n",
        "covidUS.shape"
      ],
      "execution_count": 34,
      "outputs": [
        {
          "output_type": "execute_result",
          "data": {
            "text/plain": [
              "(21904, 5)"
            ]
          },
          "metadata": {
            "tags": []
          },
          "execution_count": 34
        }
      ]
    },
    {
      "cell_type": "markdown",
      "metadata": {
        "id": "GQ-bEAliBQY0"
      },
      "source": [
        "That means that the data has 1386 rows (axis 0) and 5 columns (axis 1).\n"
      ]
    },
    {
      "cell_type": "code",
      "metadata": {
        "colab": {
          "base_uri": "https://localhost:8080/",
          "height": 204
        },
        "id": "rHB7_lVgBQY0",
        "outputId": "a8e94b18-8938-4e76-fb54-9c203fae363a"
      },
      "source": [
        "#view the head of the DF\n",
        "covidUS.head() "
      ],
      "execution_count": 35,
      "outputs": [
        {
          "output_type": "execute_result",
          "data": {
            "text/html": [
              "<div>\n",
              "<style scoped>\n",
              "    .dataframe tbody tr th:only-of-type {\n",
              "        vertical-align: middle;\n",
              "    }\n",
              "\n",
              "    .dataframe tbody tr th {\n",
              "        vertical-align: top;\n",
              "    }\n",
              "\n",
              "    .dataframe thead th {\n",
              "        text-align: right;\n",
              "    }\n",
              "</style>\n",
              "<table border=\"1\" class=\"dataframe\">\n",
              "  <thead>\n",
              "    <tr style=\"text-align: right;\">\n",
              "      <th></th>\n",
              "      <th>date</th>\n",
              "      <th>state</th>\n",
              "      <th>fips</th>\n",
              "      <th>cases</th>\n",
              "      <th>deaths</th>\n",
              "    </tr>\n",
              "  </thead>\n",
              "  <tbody>\n",
              "    <tr>\n",
              "      <th>0</th>\n",
              "      <td>2020-01-21</td>\n",
              "      <td>Washington</td>\n",
              "      <td>53</td>\n",
              "      <td>1</td>\n",
              "      <td>0</td>\n",
              "    </tr>\n",
              "    <tr>\n",
              "      <th>1</th>\n",
              "      <td>2020-01-22</td>\n",
              "      <td>Washington</td>\n",
              "      <td>53</td>\n",
              "      <td>1</td>\n",
              "      <td>0</td>\n",
              "    </tr>\n",
              "    <tr>\n",
              "      <th>2</th>\n",
              "      <td>2020-01-23</td>\n",
              "      <td>Washington</td>\n",
              "      <td>53</td>\n",
              "      <td>1</td>\n",
              "      <td>0</td>\n",
              "    </tr>\n",
              "    <tr>\n",
              "      <th>3</th>\n",
              "      <td>2020-01-24</td>\n",
              "      <td>Illinois</td>\n",
              "      <td>17</td>\n",
              "      <td>1</td>\n",
              "      <td>0</td>\n",
              "    </tr>\n",
              "    <tr>\n",
              "      <th>4</th>\n",
              "      <td>2020-01-24</td>\n",
              "      <td>Washington</td>\n",
              "      <td>53</td>\n",
              "      <td>1</td>\n",
              "      <td>0</td>\n",
              "    </tr>\n",
              "  </tbody>\n",
              "</table>\n",
              "</div>"
            ],
            "text/plain": [
              "         date       state  fips  cases  deaths\n",
              "0  2020-01-21  Washington    53      1       0\n",
              "1  2020-01-22  Washington    53      1       0\n",
              "2  2020-01-23  Washington    53      1       0\n",
              "3  2020-01-24    Illinois    17      1       0\n",
              "4  2020-01-24  Washington    53      1       0"
            ]
          },
          "metadata": {
            "tags": []
          },
          "execution_count": 35
        }
      ]
    },
    {
      "cell_type": "code",
      "metadata": {
        "colab": {
          "base_uri": "https://localhost:8080/"
        },
        "id": "By7_fkeIBQY0",
        "outputId": "ffa1153a-9f1a-443f-c17c-c8a18e12503a"
      },
      "source": [
        "#Let's view what are the max cases in one day \n",
        "covidUS.cases.max()"
      ],
      "execution_count": 36,
      "outputs": [
        {
          "output_type": "execute_result",
          "data": {
            "text/plain": [
              "3679814"
            ]
          },
          "metadata": {
            "tags": []
          },
          "execution_count": 36
        }
      ]
    },
    {
      "cell_type": "code",
      "metadata": {
        "colab": {
          "base_uri": "https://localhost:8080/",
          "height": 49
        },
        "id": "XVMOvq8pBQY0",
        "outputId": "11574654-a022-48a8-8428-e3faed1afbbd"
      },
      "source": [
        "#Let's see when and where is the max value:\n",
        "covidUS[covidUS['cases']==44635]"
      ],
      "execution_count": 37,
      "outputs": [
        {
          "output_type": "execute_result",
          "data": {
            "text/html": [
              "<div>\n",
              "<style scoped>\n",
              "    .dataframe tbody tr th:only-of-type {\n",
              "        vertical-align: middle;\n",
              "    }\n",
              "\n",
              "    .dataframe tbody tr th {\n",
              "        vertical-align: top;\n",
              "    }\n",
              "\n",
              "    .dataframe thead th {\n",
              "        text-align: right;\n",
              "    }\n",
              "</style>\n",
              "<table border=\"1\" class=\"dataframe\">\n",
              "  <thead>\n",
              "    <tr style=\"text-align: right;\">\n",
              "      <th></th>\n",
              "      <th>date</th>\n",
              "      <th>state</th>\n",
              "      <th>fips</th>\n",
              "      <th>cases</th>\n",
              "      <th>deaths</th>\n",
              "    </tr>\n",
              "  </thead>\n",
              "  <tbody>\n",
              "  </tbody>\n",
              "</table>\n",
              "</div>"
            ],
            "text/plain": [
              "Empty DataFrame\n",
              "Columns: [date, state, fips, cases, deaths]\n",
              "Index: []"
            ]
          },
          "metadata": {
            "tags": []
          },
          "execution_count": 37
        }
      ]
    },
    {
      "cell_type": "code",
      "metadata": {
        "colab": {
          "base_uri": "https://localhost:8080/"
        },
        "id": "3vwLTR-xBQY1",
        "outputId": "f834dcdc-655c-41ec-fa64-532a489d6fcc"
      },
      "source": [
        "#now let's see what is the mean value of cases \n",
        "\n",
        "covidUS.cases.mean()"
      ],
      "execution_count": 38,
      "outputs": [
        {
          "output_type": "execute_result",
          "data": {
            "text/plain": [
              "194964.38604821038"
            ]
          },
          "metadata": {
            "tags": []
          },
          "execution_count": 38
        }
      ]
    },
    {
      "cell_type": "markdown",
      "metadata": {
        "id": "oQaSaB8cBQY1"
      },
      "source": [
        "rememebr that each row represents one day, in one state..\n"
      ]
    },
    {
      "cell_type": "code",
      "metadata": {
        "id": "Lds8ATaTBQY1"
      },
      "source": [
        "#now let's create a new dataframe with New York cases only: \n",
        "\n",
        "covidNY = covidUS[covidUS['state']== 'New York']"
      ],
      "execution_count": 39,
      "outputs": []
    },
    {
      "cell_type": "code",
      "metadata": {
        "colab": {
          "base_uri": "https://localhost:8080/",
          "height": 204
        },
        "id": "pcB46kNuBQY1",
        "outputId": "e08a99ba-f36c-4375-ef28-cb3a2eb5aa00"
      },
      "source": [
        "covidNY.head()"
      ],
      "execution_count": 40,
      "outputs": [
        {
          "output_type": "execute_result",
          "data": {
            "text/html": [
              "<div>\n",
              "<style scoped>\n",
              "    .dataframe tbody tr th:only-of-type {\n",
              "        vertical-align: middle;\n",
              "    }\n",
              "\n",
              "    .dataframe tbody tr th {\n",
              "        vertical-align: top;\n",
              "    }\n",
              "\n",
              "    .dataframe thead th {\n",
              "        text-align: right;\n",
              "    }\n",
              "</style>\n",
              "<table border=\"1\" class=\"dataframe\">\n",
              "  <thead>\n",
              "    <tr style=\"text-align: right;\">\n",
              "      <th></th>\n",
              "      <th>date</th>\n",
              "      <th>state</th>\n",
              "      <th>fips</th>\n",
              "      <th>cases</th>\n",
              "      <th>deaths</th>\n",
              "    </tr>\n",
              "  </thead>\n",
              "  <tbody>\n",
              "    <tr>\n",
              "      <th>246</th>\n",
              "      <td>2020-03-01</td>\n",
              "      <td>New York</td>\n",
              "      <td>36</td>\n",
              "      <td>1</td>\n",
              "      <td>0</td>\n",
              "    </tr>\n",
              "    <tr>\n",
              "      <th>261</th>\n",
              "      <td>2020-03-02</td>\n",
              "      <td>New York</td>\n",
              "      <td>36</td>\n",
              "      <td>1</td>\n",
              "      <td>0</td>\n",
              "    </tr>\n",
              "    <tr>\n",
              "      <th>276</th>\n",
              "      <td>2020-03-03</td>\n",
              "      <td>New York</td>\n",
              "      <td>36</td>\n",
              "      <td>2</td>\n",
              "      <td>0</td>\n",
              "    </tr>\n",
              "    <tr>\n",
              "      <th>293</th>\n",
              "      <td>2020-03-04</td>\n",
              "      <td>New York</td>\n",
              "      <td>36</td>\n",
              "      <td>11</td>\n",
              "      <td>0</td>\n",
              "    </tr>\n",
              "    <tr>\n",
              "      <th>313</th>\n",
              "      <td>2020-03-05</td>\n",
              "      <td>New York</td>\n",
              "      <td>36</td>\n",
              "      <td>22</td>\n",
              "      <td>0</td>\n",
              "    </tr>\n",
              "  </tbody>\n",
              "</table>\n",
              "</div>"
            ],
            "text/plain": [
              "           date     state  fips  cases  deaths\n",
              "246  2020-03-01  New York    36      1       0\n",
              "261  2020-03-02  New York    36      1       0\n",
              "276  2020-03-03  New York    36      2       0\n",
              "293  2020-03-04  New York    36     11       0\n",
              "313  2020-03-05  New York    36     22       0"
            ]
          },
          "metadata": {
            "tags": []
          },
          "execution_count": 40
        }
      ]
    },
    {
      "cell_type": "code",
      "metadata": {
        "colab": {
          "base_uri": "https://localhost:8080/",
          "height": 421
        },
        "id": "F0bI4zExBQY1",
        "outputId": "d42dc7e6-0170-4f02-df17-66ad07245bfc"
      },
      "source": [
        "#covidNY.cases.sort_values\n",
        "covidNY.sort_values(by='cases', ascending=True).tail(12)"
      ],
      "execution_count": 41,
      "outputs": [
        {
          "output_type": "execute_result",
          "data": {
            "text/html": [
              "<div>\n",
              "<style scoped>\n",
              "    .dataframe tbody tr th:only-of-type {\n",
              "        vertical-align: middle;\n",
              "    }\n",
              "\n",
              "    .dataframe tbody tr th {\n",
              "        vertical-align: top;\n",
              "    }\n",
              "\n",
              "    .dataframe thead th {\n",
              "        text-align: right;\n",
              "    }\n",
              "</style>\n",
              "<table border=\"1\" class=\"dataframe\">\n",
              "  <thead>\n",
              "    <tr style=\"text-align: right;\">\n",
              "      <th></th>\n",
              "      <th>date</th>\n",
              "      <th>state</th>\n",
              "      <th>fips</th>\n",
              "      <th>cases</th>\n",
              "      <th>deaths</th>\n",
              "    </tr>\n",
              "  </thead>\n",
              "  <tbody>\n",
              "    <tr>\n",
              "      <th>21277</th>\n",
              "      <td>2021-03-24</td>\n",
              "      <td>New York</td>\n",
              "      <td>36</td>\n",
              "      <td>1814919</td>\n",
              "      <td>49231</td>\n",
              "    </tr>\n",
              "    <tr>\n",
              "      <th>21332</th>\n",
              "      <td>2021-03-25</td>\n",
              "      <td>New York</td>\n",
              "      <td>36</td>\n",
              "      <td>1823602</td>\n",
              "      <td>49305</td>\n",
              "    </tr>\n",
              "    <tr>\n",
              "      <th>21387</th>\n",
              "      <td>2021-03-26</td>\n",
              "      <td>New York</td>\n",
              "      <td>36</td>\n",
              "      <td>1831605</td>\n",
              "      <td>49363</td>\n",
              "    </tr>\n",
              "    <tr>\n",
              "      <th>21442</th>\n",
              "      <td>2021-03-27</td>\n",
              "      <td>New York</td>\n",
              "      <td>36</td>\n",
              "      <td>1840338</td>\n",
              "      <td>49446</td>\n",
              "    </tr>\n",
              "    <tr>\n",
              "      <th>21497</th>\n",
              "      <td>2021-03-28</td>\n",
              "      <td>New York</td>\n",
              "      <td>36</td>\n",
              "      <td>1849190</td>\n",
              "      <td>49537</td>\n",
              "    </tr>\n",
              "    <tr>\n",
              "      <th>21552</th>\n",
              "      <td>2021-03-29</td>\n",
              "      <td>New York</td>\n",
              "      <td>36</td>\n",
              "      <td>1858162</td>\n",
              "      <td>49648</td>\n",
              "    </tr>\n",
              "    <tr>\n",
              "      <th>21607</th>\n",
              "      <td>2021-03-30</td>\n",
              "      <td>New York</td>\n",
              "      <td>36</td>\n",
              "      <td>1863912</td>\n",
              "      <td>49696</td>\n",
              "    </tr>\n",
              "    <tr>\n",
              "      <th>21662</th>\n",
              "      <td>2021-03-31</td>\n",
              "      <td>New York</td>\n",
              "      <td>36</td>\n",
              "      <td>1871595</td>\n",
              "      <td>49790</td>\n",
              "    </tr>\n",
              "    <tr>\n",
              "      <th>21717</th>\n",
              "      <td>2021-04-01</td>\n",
              "      <td>New York</td>\n",
              "      <td>36</td>\n",
              "      <td>1880768</td>\n",
              "      <td>49872</td>\n",
              "    </tr>\n",
              "    <tr>\n",
              "      <th>21772</th>\n",
              "      <td>2021-04-02</td>\n",
              "      <td>New York</td>\n",
              "      <td>36</td>\n",
              "      <td>1888823</td>\n",
              "      <td>49946</td>\n",
              "    </tr>\n",
              "    <tr>\n",
              "      <th>21827</th>\n",
              "      <td>2021-04-03</td>\n",
              "      <td>New York</td>\n",
              "      <td>36</td>\n",
              "      <td>1896534</td>\n",
              "      <td>50042</td>\n",
              "    </tr>\n",
              "    <tr>\n",
              "      <th>21882</th>\n",
              "      <td>2021-04-04</td>\n",
              "      <td>New York</td>\n",
              "      <td>36</td>\n",
              "      <td>1904141</td>\n",
              "      <td>50124</td>\n",
              "    </tr>\n",
              "  </tbody>\n",
              "</table>\n",
              "</div>"
            ],
            "text/plain": [
              "             date     state  fips    cases  deaths\n",
              "21277  2021-03-24  New York    36  1814919   49231\n",
              "21332  2021-03-25  New York    36  1823602   49305\n",
              "21387  2021-03-26  New York    36  1831605   49363\n",
              "21442  2021-03-27  New York    36  1840338   49446\n",
              "21497  2021-03-28  New York    36  1849190   49537\n",
              "21552  2021-03-29  New York    36  1858162   49648\n",
              "21607  2021-03-30  New York    36  1863912   49696\n",
              "21662  2021-03-31  New York    36  1871595   49790\n",
              "21717  2021-04-01  New York    36  1880768   49872\n",
              "21772  2021-04-02  New York    36  1888823   49946\n",
              "21827  2021-04-03  New York    36  1896534   50042\n",
              "21882  2021-04-04  New York    36  1904141   50124"
            ]
          },
          "metadata": {
            "tags": []
          },
          "execution_count": 41
        }
      ]
    },
    {
      "cell_type": "markdown",
      "metadata": {
        "id": "fYjR0H4UBQY2"
      },
      "source": [
        "### Calculate new cases per day \n",
        "We can see that the cases are reported as an accumelative number. \n",
        "Meaning that on March 27th there were total of 535 deaths, and total of 44,635 cases (!!). \n",
        "To find out how many NEW cases have been detected each day we will need to substract each day from the previuos day. \n"
      ]
    },
    {
      "cell_type": "code",
      "metadata": {
        "id": "fqUXVbY-BQY2"
      },
      "source": [
        "#create new list to stroe the data \n",
        "new_cases = []\n",
        "\n",
        "# define value 0 for the first first day calculation \n",
        "# (note that this value is overwritten inside the function for the rest of the rows)\n",
        "previous_count = 0\n",
        "\n",
        "# write a for loop which iterates within all dataframe rows-->\n",
        "# in range(len()) is a comommon way to make sure that your fonction iterates through all rows in a given data \n",
        "# i represents the iteration across the data \n",
        "for i in range(len(covidNY.cases)):\n",
        "    current_count = covidNY.cases.iloc[i]\n",
        "    new_cases.append(current_count - previous_count)\n",
        "    previous_count = current_count\n",
        "    \n",
        "# append inserts the data calculated inside the function into the list (new_cases)\n",
        "\n",
        "    "
      ],
      "execution_count": 42,
      "outputs": []
    },
    {
      "cell_type": "code",
      "metadata": {
        "colab": {
          "base_uri": "https://localhost:8080/"
        },
        "id": "UJZ0Yiu3BQY2",
        "outputId": "241629ef-06cb-4097-df68-0e059589e8ee"
      },
      "source": [
        "# transform the list into a new column in our data \n",
        "\n",
        "covidNY['new_cases'] = new_cases"
      ],
      "execution_count": 43,
      "outputs": [
        {
          "output_type": "stream",
          "text": [
            "/usr/local/lib/python3.7/dist-packages/ipykernel_launcher.py:3: SettingWithCopyWarning: \n",
            "A value is trying to be set on a copy of a slice from a DataFrame.\n",
            "Try using .loc[row_indexer,col_indexer] = value instead\n",
            "\n",
            "See the caveats in the documentation: https://pandas.pydata.org/pandas-docs/stable/user_guide/indexing.html#returning-a-view-versus-a-copy\n",
            "  This is separate from the ipykernel package so we can avoid doing imports until\n"
          ],
          "name": "stderr"
        }
      ]
    },
    {
      "cell_type": "code",
      "metadata": {
        "colab": {
          "base_uri": "https://localhost:8080/",
          "height": 204
        },
        "id": "j_sXddEbBQY2",
        "outputId": "8b836fc5-08b3-4ddf-e10f-4a93c752cc93"
      },
      "source": [
        "#We now have appended the new cases per day to our NY DataFrame. \n",
        "covidNY.head()"
      ],
      "execution_count": 44,
      "outputs": [
        {
          "output_type": "execute_result",
          "data": {
            "text/html": [
              "<div>\n",
              "<style scoped>\n",
              "    .dataframe tbody tr th:only-of-type {\n",
              "        vertical-align: middle;\n",
              "    }\n",
              "\n",
              "    .dataframe tbody tr th {\n",
              "        vertical-align: top;\n",
              "    }\n",
              "\n",
              "    .dataframe thead th {\n",
              "        text-align: right;\n",
              "    }\n",
              "</style>\n",
              "<table border=\"1\" class=\"dataframe\">\n",
              "  <thead>\n",
              "    <tr style=\"text-align: right;\">\n",
              "      <th></th>\n",
              "      <th>date</th>\n",
              "      <th>state</th>\n",
              "      <th>fips</th>\n",
              "      <th>cases</th>\n",
              "      <th>deaths</th>\n",
              "      <th>new_cases</th>\n",
              "    </tr>\n",
              "  </thead>\n",
              "  <tbody>\n",
              "    <tr>\n",
              "      <th>246</th>\n",
              "      <td>2020-03-01</td>\n",
              "      <td>New York</td>\n",
              "      <td>36</td>\n",
              "      <td>1</td>\n",
              "      <td>0</td>\n",
              "      <td>1</td>\n",
              "    </tr>\n",
              "    <tr>\n",
              "      <th>261</th>\n",
              "      <td>2020-03-02</td>\n",
              "      <td>New York</td>\n",
              "      <td>36</td>\n",
              "      <td>1</td>\n",
              "      <td>0</td>\n",
              "      <td>0</td>\n",
              "    </tr>\n",
              "    <tr>\n",
              "      <th>276</th>\n",
              "      <td>2020-03-03</td>\n",
              "      <td>New York</td>\n",
              "      <td>36</td>\n",
              "      <td>2</td>\n",
              "      <td>0</td>\n",
              "      <td>1</td>\n",
              "    </tr>\n",
              "    <tr>\n",
              "      <th>293</th>\n",
              "      <td>2020-03-04</td>\n",
              "      <td>New York</td>\n",
              "      <td>36</td>\n",
              "      <td>11</td>\n",
              "      <td>0</td>\n",
              "      <td>9</td>\n",
              "    </tr>\n",
              "    <tr>\n",
              "      <th>313</th>\n",
              "      <td>2020-03-05</td>\n",
              "      <td>New York</td>\n",
              "      <td>36</td>\n",
              "      <td>22</td>\n",
              "      <td>0</td>\n",
              "      <td>11</td>\n",
              "    </tr>\n",
              "  </tbody>\n",
              "</table>\n",
              "</div>"
            ],
            "text/plain": [
              "           date     state  fips  cases  deaths  new_cases\n",
              "246  2020-03-01  New York    36      1       0          1\n",
              "261  2020-03-02  New York    36      1       0          0\n",
              "276  2020-03-03  New York    36      2       0          1\n",
              "293  2020-03-04  New York    36     11       0          9\n",
              "313  2020-03-05  New York    36     22       0         11"
            ]
          },
          "metadata": {
            "tags": []
          },
          "execution_count": 44
        }
      ]
    },
    {
      "cell_type": "markdown",
      "metadata": {
        "id": "MWc4QTyZBQY3"
      },
      "source": [
        "### Calculate new deaths per day \n",
        "\n",
        "Let's use the same method for daily number of deaths"
      ]
    },
    {
      "cell_type": "code",
      "metadata": {
        "id": "g_pKTQ_zBQY3"
      },
      "source": [
        "new_deaths = []\n",
        "previous_count = 0\n",
        "for i in range(len(covidNY.deaths)):\n",
        "    current_count = covidNY.deaths.iloc[i]\n",
        "    new_deaths.append(current_count - previous_count)\n",
        "    previous_count = current_count"
      ],
      "execution_count": 45,
      "outputs": []
    },
    {
      "cell_type": "code",
      "metadata": {
        "colab": {
          "base_uri": "https://localhost:8080/"
        },
        "id": "owKmX7GwBQY3",
        "outputId": "22cd9c9d-8b21-4b0f-9f0e-5641ae7d1907"
      },
      "source": [
        "#let's add this list to the dataframe\n",
        "covidNY['new_deaths'] = new_deaths"
      ],
      "execution_count": 46,
      "outputs": [
        {
          "output_type": "stream",
          "text": [
            "/usr/local/lib/python3.7/dist-packages/ipykernel_launcher.py:2: SettingWithCopyWarning: \n",
            "A value is trying to be set on a copy of a slice from a DataFrame.\n",
            "Try using .loc[row_indexer,col_indexer] = value instead\n",
            "\n",
            "See the caveats in the documentation: https://pandas.pydata.org/pandas-docs/stable/user_guide/indexing.html#returning-a-view-versus-a-copy\n",
            "  \n"
          ],
          "name": "stderr"
        }
      ]
    },
    {
      "cell_type": "code",
      "metadata": {
        "colab": {
          "base_uri": "https://localhost:8080/",
          "height": 204
        },
        "id": "y8wAnSToBQY3",
        "outputId": "8390cfb7-1451-4ad4-c59d-18f7605bd600"
      },
      "source": [
        "covidNY.head()"
      ],
      "execution_count": 47,
      "outputs": [
        {
          "output_type": "execute_result",
          "data": {
            "text/html": [
              "<div>\n",
              "<style scoped>\n",
              "    .dataframe tbody tr th:only-of-type {\n",
              "        vertical-align: middle;\n",
              "    }\n",
              "\n",
              "    .dataframe tbody tr th {\n",
              "        vertical-align: top;\n",
              "    }\n",
              "\n",
              "    .dataframe thead th {\n",
              "        text-align: right;\n",
              "    }\n",
              "</style>\n",
              "<table border=\"1\" class=\"dataframe\">\n",
              "  <thead>\n",
              "    <tr style=\"text-align: right;\">\n",
              "      <th></th>\n",
              "      <th>date</th>\n",
              "      <th>state</th>\n",
              "      <th>fips</th>\n",
              "      <th>cases</th>\n",
              "      <th>deaths</th>\n",
              "      <th>new_cases</th>\n",
              "      <th>new_deaths</th>\n",
              "    </tr>\n",
              "  </thead>\n",
              "  <tbody>\n",
              "    <tr>\n",
              "      <th>246</th>\n",
              "      <td>2020-03-01</td>\n",
              "      <td>New York</td>\n",
              "      <td>36</td>\n",
              "      <td>1</td>\n",
              "      <td>0</td>\n",
              "      <td>1</td>\n",
              "      <td>0</td>\n",
              "    </tr>\n",
              "    <tr>\n",
              "      <th>261</th>\n",
              "      <td>2020-03-02</td>\n",
              "      <td>New York</td>\n",
              "      <td>36</td>\n",
              "      <td>1</td>\n",
              "      <td>0</td>\n",
              "      <td>0</td>\n",
              "      <td>0</td>\n",
              "    </tr>\n",
              "    <tr>\n",
              "      <th>276</th>\n",
              "      <td>2020-03-03</td>\n",
              "      <td>New York</td>\n",
              "      <td>36</td>\n",
              "      <td>2</td>\n",
              "      <td>0</td>\n",
              "      <td>1</td>\n",
              "      <td>0</td>\n",
              "    </tr>\n",
              "    <tr>\n",
              "      <th>293</th>\n",
              "      <td>2020-03-04</td>\n",
              "      <td>New York</td>\n",
              "      <td>36</td>\n",
              "      <td>11</td>\n",
              "      <td>0</td>\n",
              "      <td>9</td>\n",
              "      <td>0</td>\n",
              "    </tr>\n",
              "    <tr>\n",
              "      <th>313</th>\n",
              "      <td>2020-03-05</td>\n",
              "      <td>New York</td>\n",
              "      <td>36</td>\n",
              "      <td>22</td>\n",
              "      <td>0</td>\n",
              "      <td>11</td>\n",
              "      <td>0</td>\n",
              "    </tr>\n",
              "  </tbody>\n",
              "</table>\n",
              "</div>"
            ],
            "text/plain": [
              "           date     state  fips  cases  deaths  new_cases  new_deaths\n",
              "246  2020-03-01  New York    36      1       0          1           0\n",
              "261  2020-03-02  New York    36      1       0          0           0\n",
              "276  2020-03-03  New York    36      2       0          1           0\n",
              "293  2020-03-04  New York    36     11       0          9           0\n",
              "313  2020-03-05  New York    36     22       0         11           0"
            ]
          },
          "metadata": {
            "tags": []
          },
          "execution_count": 47
        }
      ]
    },
    {
      "cell_type": "code",
      "metadata": {
        "colab": {
          "base_uri": "https://localhost:8080/"
        },
        "id": "_VFfJHktBQY4",
        "outputId": "c78a7214-121a-4099-d836-b0a3b0c82d8d"
      },
      "source": [
        "#We can calculate the min and max of deaths per day in NY State\n",
        "\n",
        "print ('Max # of deaths in one day in NYS',covidNY.new_deaths.max())\n",
        "print ('Min # of deaths in one day in NYS',covidNY.new_deaths.min())"
      ],
      "execution_count": 48,
      "outputs": [
        {
          "output_type": "stream",
          "text": [
            "Max # of deaths in one day in NYS 1036\n",
            "Min # of deaths in one day in NYS -102\n"
          ],
          "name": "stdout"
        }
      ]
    },
    {
      "cell_type": "code",
      "metadata": {
        "colab": {
          "base_uri": "https://localhost:8080/"
        },
        "id": "ZE5uszTzBQY4",
        "outputId": "f02a3b7e-36c2-4a39-d666-068483f6b386"
      },
      "source": [
        "#We can also calculate the mean of deaths per day\n",
        "print ('Mean # of deaths per day', covidNY.new_deaths.mean())"
      ],
      "execution_count": 49,
      "outputs": [
        {
          "output_type": "stream",
          "text": [
            "Mean # of deaths per day 125.31\n"
          ],
          "name": "stdout"
        }
      ]
    },
    {
      "cell_type": "code",
      "metadata": {
        "colab": {
          "base_uri": "https://localhost:8080/"
        },
        "id": "8e2VfsshBQY4",
        "outputId": "39610d58-cc26-4240-9228-eb6bad5ca75b"
      },
      "source": [
        "#Now let's do the same with cases: \n",
        "print('Max # of new cases in one day in NYS', covidNY.new_cases.max())\n",
        "print('Min # of new cases in one day in NYS', covidNY.new_cases.min())"
      ],
      "execution_count": 50,
      "outputs": [
        {
          "output_type": "stream",
          "text": [
            "Max # of new cases in one day in NYS 20184\n",
            "Min # of new cases in one day in NYS 0\n"
          ],
          "name": "stdout"
        }
      ]
    },
    {
      "cell_type": "code",
      "metadata": {
        "colab": {
          "base_uri": "https://localhost:8080/"
        },
        "id": "guwTI8P6BQY4",
        "outputId": "9def3447-ed6e-4a37-bcb2-dba7540c7ff8"
      },
      "source": [
        "#and the mean number of cases \n",
        "print ('Mean # of new cases in NYS', covidNY.new_cases.mean())"
      ],
      "execution_count": 51,
      "outputs": [
        {
          "output_type": "stream",
          "text": [
            "Mean # of new cases in NYS 4760.3525\n"
          ],
          "name": "stdout"
        }
      ]
    },
    {
      "cell_type": "code",
      "metadata": {
        "colab": {
          "base_uri": "https://localhost:8080/",
          "height": 419
        },
        "id": "3SQeiH5FBQY5",
        "outputId": "1022ea06-5fb8-4fba-8ace-0cb488477aaa"
      },
      "source": [
        "# now let's say we want to know which days have more than 100 new cases:\n",
        "\n",
        "covidNY[covidNY['new_cases']>100]"
      ],
      "execution_count": 52,
      "outputs": [
        {
          "output_type": "execute_result",
          "data": {
            "text/html": [
              "<div>\n",
              "<style scoped>\n",
              "    .dataframe tbody tr th:only-of-type {\n",
              "        vertical-align: middle;\n",
              "    }\n",
              "\n",
              "    .dataframe tbody tr th {\n",
              "        vertical-align: top;\n",
              "    }\n",
              "\n",
              "    .dataframe thead th {\n",
              "        text-align: right;\n",
              "    }\n",
              "</style>\n",
              "<table border=\"1\" class=\"dataframe\">\n",
              "  <thead>\n",
              "    <tr style=\"text-align: right;\">\n",
              "      <th></th>\n",
              "      <th>date</th>\n",
              "      <th>state</th>\n",
              "      <th>fips</th>\n",
              "      <th>cases</th>\n",
              "      <th>deaths</th>\n",
              "      <th>new_cases</th>\n",
              "      <th>new_deaths</th>\n",
              "    </tr>\n",
              "  </thead>\n",
              "  <tbody>\n",
              "    <tr>\n",
              "      <th>568</th>\n",
              "      <td>2020-03-12</td>\n",
              "      <td>New York</td>\n",
              "      <td>36</td>\n",
              "      <td>326</td>\n",
              "      <td>0</td>\n",
              "      <td>109</td>\n",
              "      <td>0</td>\n",
              "    </tr>\n",
              "    <tr>\n",
              "      <th>669</th>\n",
              "      <td>2020-03-14</td>\n",
              "      <td>New York</td>\n",
              "      <td>36</td>\n",
              "      <td>610</td>\n",
              "      <td>2</td>\n",
              "      <td>189</td>\n",
              "      <td>2</td>\n",
              "    </tr>\n",
              "    <tr>\n",
              "      <th>722</th>\n",
              "      <td>2020-03-15</td>\n",
              "      <td>New York</td>\n",
              "      <td>36</td>\n",
              "      <td>732</td>\n",
              "      <td>6</td>\n",
              "      <td>122</td>\n",
              "      <td>4</td>\n",
              "    </tr>\n",
              "    <tr>\n",
              "      <th>775</th>\n",
              "      <td>2020-03-16</td>\n",
              "      <td>New York</td>\n",
              "      <td>36</td>\n",
              "      <td>950</td>\n",
              "      <td>10</td>\n",
              "      <td>218</td>\n",
              "      <td>4</td>\n",
              "    </tr>\n",
              "    <tr>\n",
              "      <th>828</th>\n",
              "      <td>2020-03-17</td>\n",
              "      <td>New York</td>\n",
              "      <td>36</td>\n",
              "      <td>1375</td>\n",
              "      <td>18</td>\n",
              "      <td>425</td>\n",
              "      <td>8</td>\n",
              "    </tr>\n",
              "    <tr>\n",
              "      <th>...</th>\n",
              "      <td>...</td>\n",
              "      <td>...</td>\n",
              "      <td>...</td>\n",
              "      <td>...</td>\n",
              "      <td>...</td>\n",
              "      <td>...</td>\n",
              "      <td>...</td>\n",
              "    </tr>\n",
              "    <tr>\n",
              "      <th>21662</th>\n",
              "      <td>2021-03-31</td>\n",
              "      <td>New York</td>\n",
              "      <td>36</td>\n",
              "      <td>1871595</td>\n",
              "      <td>49790</td>\n",
              "      <td>7683</td>\n",
              "      <td>94</td>\n",
              "    </tr>\n",
              "    <tr>\n",
              "      <th>21717</th>\n",
              "      <td>2021-04-01</td>\n",
              "      <td>New York</td>\n",
              "      <td>36</td>\n",
              "      <td>1880768</td>\n",
              "      <td>49872</td>\n",
              "      <td>9173</td>\n",
              "      <td>82</td>\n",
              "    </tr>\n",
              "    <tr>\n",
              "      <th>21772</th>\n",
              "      <td>2021-04-02</td>\n",
              "      <td>New York</td>\n",
              "      <td>36</td>\n",
              "      <td>1888823</td>\n",
              "      <td>49946</td>\n",
              "      <td>8055</td>\n",
              "      <td>74</td>\n",
              "    </tr>\n",
              "    <tr>\n",
              "      <th>21827</th>\n",
              "      <td>2021-04-03</td>\n",
              "      <td>New York</td>\n",
              "      <td>36</td>\n",
              "      <td>1896534</td>\n",
              "      <td>50042</td>\n",
              "      <td>7711</td>\n",
              "      <td>96</td>\n",
              "    </tr>\n",
              "    <tr>\n",
              "      <th>21882</th>\n",
              "      <td>2021-04-04</td>\n",
              "      <td>New York</td>\n",
              "      <td>36</td>\n",
              "      <td>1904141</td>\n",
              "      <td>50124</td>\n",
              "      <td>7607</td>\n",
              "      <td>82</td>\n",
              "    </tr>\n",
              "  </tbody>\n",
              "</table>\n",
              "<p>388 rows × 7 columns</p>\n",
              "</div>"
            ],
            "text/plain": [
              "             date     state  fips    cases  deaths  new_cases  new_deaths\n",
              "568    2020-03-12  New York    36      326       0        109           0\n",
              "669    2020-03-14  New York    36      610       2        189           2\n",
              "722    2020-03-15  New York    36      732       6        122           4\n",
              "775    2020-03-16  New York    36      950      10        218           4\n",
              "828    2020-03-17  New York    36     1375      18        425           8\n",
              "...           ...       ...   ...      ...     ...        ...         ...\n",
              "21662  2021-03-31  New York    36  1871595   49790       7683          94\n",
              "21717  2021-04-01  New York    36  1880768   49872       9173          82\n",
              "21772  2021-04-02  New York    36  1888823   49946       8055          74\n",
              "21827  2021-04-03  New York    36  1896534   50042       7711          96\n",
              "21882  2021-04-04  New York    36  1904141   50124       7607          82\n",
              "\n",
              "[388 rows x 7 columns]"
            ]
          },
          "metadata": {
            "tags": []
          },
          "execution_count": 52
        }
      ]
    },
    {
      "cell_type": "markdown",
      "metadata": {
        "id": "nReDmOfjBQY5"
      },
      "source": [
        "# First task: "
      ]
    },
    {
      "cell_type": "code",
      "metadata": {
        "colab": {
          "base_uri": "https://localhost:8080/"
        },
        "id": "l21GpguJBQY5",
        "outputId": "12ebf2a1-f826-4a90-d5dc-924ddf9073d2"
      },
      "source": [
        "# Can you calculate what is the precentage of the total deaths as a ratio of total cases? \n",
        "\n",
        "# hint: you can create a new column that would take would be a \n",
        "# result of applying a calculation on two exsiting columns:\n",
        "\n",
        "# covidNY['YOUR NEW COLUMN'] = '#of deaths so far'/'#of cases so far'\n",
        "# you will have to multiply the result by 100 so you get a % and not a ratio \n",
        "\n",
        "\n",
        "\n",
        "covidNY ['percentage'] = covidNY['new_deaths']/covidNY['new_cases']*100\n",
        "\n",
        "\n",
        "\n"
      ],
      "execution_count": 68,
      "outputs": [
        {
          "output_type": "stream",
          "text": [
            "/usr/local/lib/python3.7/dist-packages/ipykernel_launcher.py:11: SettingWithCopyWarning: \n",
            "A value is trying to be set on a copy of a slice from a DataFrame.\n",
            "Try using .loc[row_indexer,col_indexer] = value instead\n",
            "\n",
            "See the caveats in the documentation: https://pandas.pydata.org/pandas-docs/stable/user_guide/indexing.html#returning-a-view-versus-a-copy\n",
            "  # This is added back by InteractiveShellApp.init_path()\n"
          ],
          "name": "stderr"
        }
      ]
    },
    {
      "cell_type": "markdown",
      "metadata": {
        "id": "UFDyOfs-BQY5"
      },
      "source": [
        "1. As of March 27th, what is the % of people who died from the covid-19? \n",
        "2. What is the overall trend of this % over the past month? \n"
      ]
    },
    {
      "cell_type": "markdown",
      "metadata": {
        "id": "0eRwV3QABQY5"
      },
      "source": [
        "## Now let's go back to our initial dataframe--> covidUS\n",
        "\n"
      ]
    },
    {
      "cell_type": "code",
      "metadata": {
        "colab": {
          "base_uri": "https://localhost:8080/",
          "height": 204
        },
        "id": "ZvHIoZ0iBQY5",
        "outputId": "9bc8543c-7c72-4c3c-bd30-566f1d777824"
      },
      "source": [
        "#reminder this is how it looks like after adding 2new columns: \n",
        "\n",
        "covidUS.head()"
      ],
      "execution_count": 55,
      "outputs": [
        {
          "output_type": "execute_result",
          "data": {
            "text/html": [
              "<div>\n",
              "<style scoped>\n",
              "    .dataframe tbody tr th:only-of-type {\n",
              "        vertical-align: middle;\n",
              "    }\n",
              "\n",
              "    .dataframe tbody tr th {\n",
              "        vertical-align: top;\n",
              "    }\n",
              "\n",
              "    .dataframe thead th {\n",
              "        text-align: right;\n",
              "    }\n",
              "</style>\n",
              "<table border=\"1\" class=\"dataframe\">\n",
              "  <thead>\n",
              "    <tr style=\"text-align: right;\">\n",
              "      <th></th>\n",
              "      <th>date</th>\n",
              "      <th>state</th>\n",
              "      <th>fips</th>\n",
              "      <th>cases</th>\n",
              "      <th>deaths</th>\n",
              "    </tr>\n",
              "  </thead>\n",
              "  <tbody>\n",
              "    <tr>\n",
              "      <th>0</th>\n",
              "      <td>2020-01-21</td>\n",
              "      <td>Washington</td>\n",
              "      <td>53</td>\n",
              "      <td>1</td>\n",
              "      <td>0</td>\n",
              "    </tr>\n",
              "    <tr>\n",
              "      <th>1</th>\n",
              "      <td>2020-01-22</td>\n",
              "      <td>Washington</td>\n",
              "      <td>53</td>\n",
              "      <td>1</td>\n",
              "      <td>0</td>\n",
              "    </tr>\n",
              "    <tr>\n",
              "      <th>2</th>\n",
              "      <td>2020-01-23</td>\n",
              "      <td>Washington</td>\n",
              "      <td>53</td>\n",
              "      <td>1</td>\n",
              "      <td>0</td>\n",
              "    </tr>\n",
              "    <tr>\n",
              "      <th>3</th>\n",
              "      <td>2020-01-24</td>\n",
              "      <td>Illinois</td>\n",
              "      <td>17</td>\n",
              "      <td>1</td>\n",
              "      <td>0</td>\n",
              "    </tr>\n",
              "    <tr>\n",
              "      <th>4</th>\n",
              "      <td>2020-01-24</td>\n",
              "      <td>Washington</td>\n",
              "      <td>53</td>\n",
              "      <td>1</td>\n",
              "      <td>0</td>\n",
              "    </tr>\n",
              "  </tbody>\n",
              "</table>\n",
              "</div>"
            ],
            "text/plain": [
              "         date       state  fips  cases  deaths\n",
              "0  2020-01-21  Washington    53      1       0\n",
              "1  2020-01-22  Washington    53      1       0\n",
              "2  2020-01-23  Washington    53      1       0\n",
              "3  2020-01-24    Illinois    17      1       0\n",
              "4  2020-01-24  Washington    53      1       0"
            ]
          },
          "metadata": {
            "tags": []
          },
          "execution_count": 55
        }
      ]
    },
    {
      "cell_type": "markdown",
      "metadata": {
        "id": "FHj6tsGUBQY6"
      },
      "source": [
        "let's look into how which states have recorded cases.\n"
      ]
    },
    {
      "cell_type": "code",
      "metadata": {
        "colab": {
          "base_uri": "https://localhost:8080/"
        },
        "id": "WrKeIllfBQY6",
        "outputId": "026dc4e4-b1ec-49f9-d6be-66a85fd8af4e"
      },
      "source": [
        "covidUS.state.unique()"
      ],
      "execution_count": 56,
      "outputs": [
        {
          "output_type": "execute_result",
          "data": {
            "text/plain": [
              "array(['Washington', 'Illinois', 'California', 'Arizona', 'Massachusetts',\n",
              "       'Wisconsin', 'Texas', 'Nebraska', 'Utah', 'Oregon', 'Florida',\n",
              "       'New York', 'Rhode Island', 'Georgia', 'New Hampshire',\n",
              "       'North Carolina', 'New Jersey', 'Colorado', 'Maryland', 'Nevada',\n",
              "       'Tennessee', 'Hawaii', 'Indiana', 'Kentucky', 'Minnesota',\n",
              "       'Oklahoma', 'Pennsylvania', 'South Carolina',\n",
              "       'District of Columbia', 'Kansas', 'Missouri', 'Vermont',\n",
              "       'Virginia', 'Connecticut', 'Iowa', 'Louisiana', 'Ohio', 'Michigan',\n",
              "       'South Dakota', 'Arkansas', 'Delaware', 'Mississippi',\n",
              "       'New Mexico', 'North Dakota', 'Wyoming', 'Alaska', 'Maine',\n",
              "       'Alabama', 'Idaho', 'Montana', 'Puerto Rico', 'Virgin Islands',\n",
              "       'Guam', 'West Virginia', 'Northern Mariana Islands'], dtype=object)"
            ]
          },
          "metadata": {
            "tags": []
          },
          "execution_count": 56
        }
      ]
    },
    {
      "cell_type": "code",
      "metadata": {
        "colab": {
          "base_uri": "https://localhost:8080/"
        },
        "id": "VGnPozFABQY6",
        "outputId": "448cf1cb-c080-4b5d-d6ca-5e3076cdc2ae"
      },
      "source": [
        "#we can now find the number of states that have cases: \n",
        "len(covidUS.state.unique()) \n",
        "    "
      ],
      "execution_count": 58,
      "outputs": [
        {
          "output_type": "execute_result",
          "data": {
            "text/plain": [
              "55"
            ]
          },
          "metadata": {
            "tags": []
          },
          "execution_count": 58
        }
      ]
    },
    {
      "cell_type": "markdown",
      "metadata": {
        "id": "sw57pGAfBQY6"
      },
      "source": [
        "We can now create a new dataframe in which we will look into the number of deaths in each state on March 27th. \n",
        "To do so we'd need to filter through the \"date\" column and only display 2020-03-27"
      ]
    },
    {
      "cell_type": "code",
      "metadata": {
        "id": "sskYe4RFBQY6"
      },
      "source": [
        "#let's create a new DF with March 27th only\n",
        "march27 = covidUS[covidUS['date']== '2020-03-27']"
      ],
      "execution_count": 59,
      "outputs": []
    },
    {
      "cell_type": "code",
      "metadata": {
        "id": "QeE2HZ8nBQZG"
      },
      "source": [
        "#let's check it out\n",
        "march27.head()"
      ],
      "execution_count": null,
      "outputs": []
    },
    {
      "cell_type": "code",
      "metadata": {
        "id": "0K7amOgfBQZG"
      },
      "source": [
        "#remember the sorting command from earlier in this noteboook?\n",
        "sorted27 = march27.sort_values(by='cases',  ascending=False)"
      ],
      "execution_count": null,
      "outputs": []
    },
    {
      "cell_type": "code",
      "metadata": {
        "id": "ZMdeSMswBQZG"
      },
      "source": [
        "#let's try to plot the number of cases and number of deaths in March 27th for each state \n",
        "import matplotlib.pyplot as plt\n",
        "plt.figure(figsize=(10,4))\n",
        "cases = plt.plot(sorted27.state, sorted27.cases)\n",
        "deaths = plt.plot(sorted27.state, sorted27.deaths)\n",
        "plt.show()"
      ],
      "execution_count": null,
      "outputs": []
    },
    {
      "cell_type": "markdown",
      "metadata": {
        "id": "0XI3Ri0cBQZG"
      },
      "source": [
        "# Task 2: \n",
        "1. What is this chart showing? Is this a good representation of the data? Why or why not? \n",
        "2. Can you think of other ways to display this infomration in a more meanigful way? "
      ]
    },
    {
      "cell_type": "code",
      "metadata": {
        "colab": {
          "base_uri": "https://localhost:8080/",
          "height": 253
        },
        "id": "H9cilcE6BQZG",
        "outputId": "ac68fe2e-bbb1-4319-bc34-4a7bd5ca35f7"
      },
      "source": [
        "#to make this visualization better I will try to display the info in data points and not a continuous line.\n",
        "#let's try to plot the number of cases and number of deaths in March 27th for each state \n",
        "#I will also change the chart size \n",
        "import matplotlib.pyplot as plt\n",
        "plt.figure(figsize=(19,4))\n",
        "#let's also change the colors of the dots so the cases are blue and the deaths are red\n",
        "cases = plt.plot(sorted27.state, sorted27.cases, 'ro', c='b',alpha=0.8)\n",
        "deaths = plt.plot(sorted27.state, sorted27.deaths, 'ro', alpha=0.7)\n",
        "\n",
        "# We can add labels\n",
        "plt.text(0.2,40000, 'cases')\n",
        "plt.text(0.001,2200, 'deaths')\n",
        "\n",
        "# and of course add title: \n",
        "\n",
        "plt.title('COVID-19 total cases and deaths in the US')\n",
        "plt.show()"
      ],
      "execution_count": 61,
      "outputs": [
        {
          "output_type": "error",
          "ename": "NameError",
          "evalue": "ignored",
          "traceback": [
            "\u001b[0;31m---------------------------------------------------------------------------\u001b[0m",
            "\u001b[0;31mNameError\u001b[0m                                 Traceback (most recent call last)",
            "\u001b[0;32m<ipython-input-61-6d5dfa443891>\u001b[0m in \u001b[0;36m<module>\u001b[0;34m()\u001b[0m\n\u001b[1;32m      5\u001b[0m \u001b[0mplt\u001b[0m\u001b[0;34m.\u001b[0m\u001b[0mfigure\u001b[0m\u001b[0;34m(\u001b[0m\u001b[0mfigsize\u001b[0m\u001b[0;34m=\u001b[0m\u001b[0;34m(\u001b[0m\u001b[0;36m19\u001b[0m\u001b[0;34m,\u001b[0m\u001b[0;36m4\u001b[0m\u001b[0;34m)\u001b[0m\u001b[0;34m)\u001b[0m\u001b[0;34m\u001b[0m\u001b[0;34m\u001b[0m\u001b[0m\n\u001b[1;32m      6\u001b[0m \u001b[0;31m#let's also change the colors of the dots so the cases are blue and the deaths are red\u001b[0m\u001b[0;34m\u001b[0m\u001b[0;34m\u001b[0m\u001b[0;34m\u001b[0m\u001b[0m\n\u001b[0;32m----> 7\u001b[0;31m \u001b[0mcases\u001b[0m \u001b[0;34m=\u001b[0m \u001b[0mplt\u001b[0m\u001b[0;34m.\u001b[0m\u001b[0mplot\u001b[0m\u001b[0;34m(\u001b[0m\u001b[0msorted27\u001b[0m\u001b[0;34m.\u001b[0m\u001b[0mstate\u001b[0m\u001b[0;34m,\u001b[0m \u001b[0msorted27\u001b[0m\u001b[0;34m.\u001b[0m\u001b[0mcases\u001b[0m\u001b[0;34m,\u001b[0m \u001b[0;34m'ro'\u001b[0m\u001b[0;34m,\u001b[0m \u001b[0mc\u001b[0m\u001b[0;34m=\u001b[0m\u001b[0;34m'b'\u001b[0m\u001b[0;34m,\u001b[0m\u001b[0malpha\u001b[0m\u001b[0;34m=\u001b[0m\u001b[0;36m0.8\u001b[0m\u001b[0;34m)\u001b[0m\u001b[0;34m\u001b[0m\u001b[0;34m\u001b[0m\u001b[0m\n\u001b[0m\u001b[1;32m      8\u001b[0m \u001b[0mdeaths\u001b[0m \u001b[0;34m=\u001b[0m \u001b[0mplt\u001b[0m\u001b[0;34m.\u001b[0m\u001b[0mplot\u001b[0m\u001b[0;34m(\u001b[0m\u001b[0msorted27\u001b[0m\u001b[0;34m.\u001b[0m\u001b[0mstate\u001b[0m\u001b[0;34m,\u001b[0m \u001b[0msorted27\u001b[0m\u001b[0;34m.\u001b[0m\u001b[0mdeaths\u001b[0m\u001b[0;34m,\u001b[0m \u001b[0;34m'ro'\u001b[0m\u001b[0;34m,\u001b[0m \u001b[0malpha\u001b[0m\u001b[0;34m=\u001b[0m\u001b[0;36m0.7\u001b[0m\u001b[0;34m)\u001b[0m\u001b[0;34m\u001b[0m\u001b[0;34m\u001b[0m\u001b[0m\n\u001b[1;32m      9\u001b[0m \u001b[0;34m\u001b[0m\u001b[0m\n",
            "\u001b[0;31mNameError\u001b[0m: name 'sorted27' is not defined"
          ]
        },
        {
          "output_type": "display_data",
          "data": {
            "text/plain": [
              "<Figure size 1368x288 with 0 Axes>"
            ]
          },
          "metadata": {
            "tags": []
          }
        }
      ]
    },
    {
      "cell_type": "markdown",
      "metadata": {
        "id": "X_dBWC5EBQZH"
      },
      "source": [
        "Alright, this is a little better! But still the states names are mostly not visible because there are too many of them! \n",
        "\n",
        "To highlight the gap betwen deaths and confirmed cases I will remove those states that have less than 10 cases: \n"
      ]
    },
    {
      "cell_type": "code",
      "metadata": {
        "colab": {
          "base_uri": "https://localhost:8080/",
          "height": 168
        },
        "id": "rdBozQ39BQZH",
        "outputId": "8e493676-4ffd-469b-c9e1-032261a29dc9"
      },
      "source": [
        "sorted27 = sorted27[sorted27['deaths']>20]"
      ],
      "execution_count": 62,
      "outputs": [
        {
          "output_type": "error",
          "ename": "NameError",
          "evalue": "ignored",
          "traceback": [
            "\u001b[0;31m---------------------------------------------------------------------------\u001b[0m",
            "\u001b[0;31mNameError\u001b[0m                                 Traceback (most recent call last)",
            "\u001b[0;32m<ipython-input-62-88c4e0dada6b>\u001b[0m in \u001b[0;36m<module>\u001b[0;34m()\u001b[0m\n\u001b[0;32m----> 1\u001b[0;31m \u001b[0msorted27\u001b[0m \u001b[0;34m=\u001b[0m \u001b[0msorted27\u001b[0m\u001b[0;34m[\u001b[0m\u001b[0msorted27\u001b[0m\u001b[0;34m[\u001b[0m\u001b[0;34m'deaths'\u001b[0m\u001b[0;34m]\u001b[0m\u001b[0;34m>\u001b[0m\u001b[0;36m20\u001b[0m\u001b[0;34m]\u001b[0m\u001b[0;34m\u001b[0m\u001b[0;34m\u001b[0m\u001b[0m\n\u001b[0m",
            "\u001b[0;31mNameError\u001b[0m: name 'sorted27' is not defined"
          ]
        }
      ]
    },
    {
      "cell_type": "code",
      "metadata": {
        "id": "cOus300SBQZH"
      },
      "source": [
        "len(sorted27)"
      ],
      "execution_count": null,
      "outputs": []
    },
    {
      "cell_type": "code",
      "metadata": {
        "id": "3YV0lEAGBQZH"
      },
      "source": [
        "import matplotlib.pyplot as plt\n",
        "plt.figure(figsize=(19,4))\n",
        "#let's also change the colors of the dots so the cases are blue and the deaths are red\n",
        "cases = plt.plot(sorted27.state, sorted27.cases, 'ro', c='b',alpha=0.8)\n",
        "deaths = plt.plot(sorted27.state, sorted27.deaths, 'ro', alpha=0.7)\n",
        "\n",
        "# We can add labels\n",
        "plt.text(0.2,40000, 'cases')\n",
        "plt.text(0.001,2200, 'deaths')\n",
        "\n",
        "# and of course add title: \n",
        "\n",
        "plt.title('COVID-19 total cases and deaths in the US states that have more than 20 deaths')\n",
        "plt.show()"
      ],
      "execution_count": null,
      "outputs": []
    },
    {
      "cell_type": "markdown",
      "metadata": {
        "id": "x23PlofQBQZH"
      },
      "source": [
        " "
      ]
    },
    {
      "cell_type": "markdown",
      "metadata": {
        "id": "7MdizQpNBQZI"
      },
      "source": [
        "## Task 3: \n",
        "For the March 27th DataFrame: \n",
        "\n",
        "As of March 27th, which are the top 5 states in terms of the highest ratio of deaths/total cases? \n",
        "Where is New York State ranked?\n",
        "\n",
        "- Hint: work on the march27 df, and create a new column that calculates this ratio. Then sort the DF by the new column. "
      ]
    },
    {
      "cell_type": "code",
      "metadata": {
        "id": "MlJWmyegBQZI"
      },
      "source": [
        "#your code here:"
      ],
      "execution_count": null,
      "outputs": []
    },
    {
      "cell_type": "code",
      "metadata": {
        "id": "0ZBM3fR-BQZI"
      },
      "source": [
        ""
      ],
      "execution_count": null,
      "outputs": []
    },
    {
      "cell_type": "code",
      "metadata": {
        "id": "MQHE8MH2BQZI"
      },
      "source": [
        ""
      ],
      "execution_count": null,
      "outputs": []
    },
    {
      "cell_type": "code",
      "metadata": {
        "id": "_W59dA1yBQZI"
      },
      "source": [
        ""
      ],
      "execution_count": null,
      "outputs": []
    },
    {
      "cell_type": "markdown",
      "metadata": {
        "id": "j_UKNpWFBQZI"
      },
      "source": [
        "## Task 4: \n",
        "\n",
        "- Download the US level data from the New York Times Github repo (named us.csv) https://github.com/nytimes/covid-19-data \n",
        "- Create a new column to calculate the number of new cases and new deaths per day \n",
        "- Plot the data (day on the X axis and number of deaths or cases in the Y axis) \n",
        "\n",
        "\n"
      ]
    },
    {
      "cell_type": "code",
      "metadata": {
        "id": "vIhy-phBBQZJ"
      },
      "source": [
        "#Your code here: \n",
        "# usData = pd.read_csv('us.csv')\n"
      ],
      "execution_count": null,
      "outputs": []
    },
    {
      "cell_type": "code",
      "metadata": {
        "id": "sSWSBdZaBQZJ"
      },
      "source": [
        ""
      ],
      "execution_count": null,
      "outputs": []
    },
    {
      "cell_type": "markdown",
      "metadata": {
        "id": "qmNpiY4xBQZJ"
      },
      "source": [
        "\n",
        "## Extra credit: \n",
        "- Can you replicate Task 4 (visualizing cases and deaths on a US level) **only** using the states.csv?"
      ]
    },
    {
      "cell_type": "code",
      "metadata": {
        "id": "FILGrGwnBQZK"
      },
      "source": [
        ""
      ],
      "execution_count": null,
      "outputs": []
    },
    {
      "cell_type": "code",
      "metadata": {
        "id": "pELz3Cj-BQZK"
      },
      "source": [
        ""
      ],
      "execution_count": null,
      "outputs": []
    },
    {
      "cell_type": "markdown",
      "metadata": {
        "id": "GCf12eXFBQZK"
      },
      "source": [
        "\n",
        "\n",
        "## Submit a URL to your Github based Jupyter Notebook with the answers to these tasks.\n",
        "## make sure to run the notebook and submit it with outputs "
      ]
    },
    {
      "cell_type": "code",
      "metadata": {
        "id": "acIjA5hTBQZK"
      },
      "source": [
        ""
      ],
      "execution_count": 62,
      "outputs": []
    }
  ]
}